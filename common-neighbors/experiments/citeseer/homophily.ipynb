{
 "cells": [
  {
   "cell_type": "code",
   "execution_count": 3,
   "metadata": {},
   "outputs": [
    {
     "name": "stdout",
     "output_type": "stream",
     "text": [
      "Imports finished.\n"
     ]
    }
   ],
   "source": [
    "# these warnings are fine. you can ignore them.\n",
    "import random, math\n",
    "\n",
    "import sys\n",
    "sys.path.append('../')\n",
    "from util import *\n",
    "\n",
    "device = torch.device('cuda' if torch.cuda.is_available() else 'cpu')\n",
    "print(\"Imports finished.\")"
   ]
  },
  {
   "cell_type": "markdown",
   "metadata": {},
   "source": [
    "# Setting Up Dataset/Model/Ground Truth"
   ]
  },
  {
   "cell_type": "code",
   "execution_count": 4,
   "metadata": {},
   "outputs": [
    {
     "name": "stdout",
     "output_type": "stream",
     "text": [
      "0.537\n"
     ]
    }
   ],
   "source": [
    "dataset = Dataset(root='/tmp/CiteSeer', name='CiteSeer', device=device)\n",
    "data, in_feats, h_feats, num_classes = dataset.get_data()\n",
    "\n",
    "model = get_model(in_feats, h_feats, num_classes, 'citeseer')\n",
    "\n",
    "ground_truth = get_ground_truth(model, data)\n",
    "print(ground_truth)"
   ]
  },
  {
   "cell_type": "markdown",
   "metadata": {},
   "source": [
    "# Experiments\n",
    "**Note:** The ground truth here is $0.749$"
   ]
  },
  {
   "cell_type": "code",
   "execution_count": 5,
   "metadata": {},
   "outputs": [],
   "source": [
    "homophilic_set = {label: [] for label in set(data.y.tolist())}\n",
    "\n",
    "test_indices = torch.nonzero(data.test_mask, as_tuple=False).squeeze()\n",
    "for i in test_indices:\n",
    "    homophilic_set[data.y[i].item()].append(i.item())\n",
    "\n",
    "# print(\"This is the dictionary containing each class and its respective elements:\\n\\t\", homophilic_set)"
   ]
  },
  {
   "cell_type": "code",
   "execution_count": 18,
   "metadata": {},
   "outputs": [
    {
     "name": "stdout",
     "output_type": "stream",
     "text": [
      "0.7355008787346221\n"
     ]
    }
   ],
   "source": [
    "def calculate_homophily(data):\n",
    "    G, x, y, train_mask, test_mask = convert_to_networkx(data)\n",
    "    same = 0\n",
    "    num_edges = 0\n",
    "    \n",
    "    for i in range(0, G.number_of_nodes()):\n",
    "        edges = G.out_edges(i)\n",
    "        for e in edges:\n",
    "            if y[e[0]] == y[e[1]]:\n",
    "                same += 1\n",
    "            num_edges += 1\n",
    "\n",
    "    return same / num_edges\n",
    "\n",
    "homo = calculate_homophily(data)\n",
    "print(homo)"
   ]
  },
  {
   "cell_type": "markdown",
   "metadata": {},
   "source": [
    "### Connect with same class nodes which do not already have edges\n",
    "Take the first element in a class and add edges to all OTHER elements in that class if they do not currently exist."
   ]
  },
  {
   "cell_type": "code",
   "execution_count": 6,
   "metadata": {},
   "outputs": [
    {
     "name": "stdout",
     "output_type": "stream",
     "text": [
      "\n",
      "----\n",
      "The accuracy has changed by -0.0010\n",
      "Change in edges:  980.5  | Percentage change: 21.54%\n"
     ]
    }
   ],
   "source": [
    "data = dataset.get_data()[0]\n",
    "modified_graph = data\n",
    "\n",
    "init_edges = len(modified_graph.edge_index[1])\n",
    "\n",
    "G, x, y, train_mask, test_mask = convert_to_networkx(modified_graph)\n",
    "\n",
    "for i in range(0, num_classes):\n",
    "    for j in range(1, len(homophilic_set[i])):\n",
    "        if not G.has_edge(i, j):\n",
    "            add_edge(G, i, j, undirected=True)\n",
    "\n",
    "modified_graph = convert_to_pyg(G, x, y, train_mask, test_mask)\n",
    "final_edges = len(modified_graph.edge_index[1])\n",
    "\n",
    "output_accuracy_change(ground_truth, test_model(model, modified_graph)) \n",
    "number_added_edges(init_edges, final_edges, is_undirected=True)"
   ]
  },
  {
   "cell_type": "markdown",
   "metadata": {},
   "source": [
    "### Connect same class nodes with one other random nodes (which is is not currently a neighbor to)"
   ]
  },
  {
   "cell_type": "code",
   "execution_count": 7,
   "metadata": {},
   "outputs": [
    {
     "name": "stdout",
     "output_type": "stream",
     "text": [
      "\n",
      "----\n",
      "The accuracy has changed by 0.0020\n",
      "Change in edges:  6.0  | Percentage change: 0.13%\n"
     ]
    }
   ],
   "source": [
    "data = dataset.get_data()[0]\n",
    "modified_graph = data\n",
    "\n",
    "init_edges = len(modified_graph.edge_index[1])\n",
    "\n",
    "G, x, y, train_mask, test_mask = convert_to_networkx(modified_graph)\n",
    "\n",
    "for i in range(0, num_classes):\n",
    "    r_node = random.choice(homophilic_set[i])\n",
    "    n_node = random.choice(homophilic_set[i])\n",
    "\n",
    "    while r_node == n_node or G.has_edge(r_node, n_node):\n",
    "        n_node = random.choice(homophilic_set[i])\n",
    "\n",
    "    add_edge(G, r_node, n_node, undirected=True)\n",
    "\n",
    "modified_graph = convert_to_pyg(G, x, y, train_mask, test_mask)\n",
    "final_edges = len(modified_graph.edge_index[1])\n",
    "\n",
    "output_accuracy_change(ground_truth, test_model(model, modified_graph)) \n",
    "number_added_edges(init_edges, final_edges, is_undirected=True)"
   ]
  },
  {
   "cell_type": "markdown",
   "metadata": {},
   "source": [
    "### Create a dense graph between all nodes with the same class"
   ]
  },
  {
   "cell_type": "code",
   "execution_count": 8,
   "metadata": {},
   "outputs": [
    {
     "name": "stdout",
     "output_type": "stream",
     "text": [
      "\n",
      "----\n",
      "The accuracy has changed by 0.4620\n",
      "Change in edges:  88856.0  | Percentage change: 1952.02%\n"
     ]
    }
   ],
   "source": [
    "data = dataset.get_data()[0]\n",
    "modified_graph = data\n",
    "\n",
    "init_edges = len(modified_graph.edge_index[1])\n",
    "\n",
    "G, x, y, train_mask, test_mask = convert_to_networkx(modified_graph)\n",
    "\n",
    "for i in range(0, num_classes):\n",
    "    for j in range(0, len(homophilic_set[i])):\n",
    "        for k in range(j + 1, len(homophilic_set[i])):\n",
    "            j_node = homophilic_set[i][j]\n",
    "            k_node = homophilic_set[i][k]\n",
    "            if j_node == k_node or G.has_edge(j_node, k_node):\n",
    "                continue\n",
    "\n",
    "            add_edge(G, j_node, k_node, undirected=True)\n",
    "\n",
    "modified_graph = convert_to_pyg(G, x, y, train_mask, test_mask)\n",
    "final_edges = len(modified_graph.edge_index[1])\n",
    "\n",
    "output_accuracy_change(ground_truth, test_model(model, modified_graph))\n",
    "number_added_edges(init_edges, final_edges, is_undirected=True)"
   ]
  },
  {
   "cell_type": "markdown",
   "metadata": {},
   "source": [
    "#### Increase each node's number homophilic edges by a certain threshold?\n",
    "Let's start with $\\lfloor 0.1 \\times h_e \\rfloor$, where $h_e$ is the number of homophilic edges.\n",
    "In the current implementation, the nodes which are seen last likely see more nodes added."
   ]
  },
  {
   "cell_type": "code",
   "execution_count": 9,
   "metadata": {},
   "outputs": [
    {
     "name": "stdout",
     "output_type": "stream",
     "text": [
      "\n",
      "----\n",
      "The accuracy has not changed.\n",
      "Change in edges:  0.0  | Percentage change: 0.00%\n"
     ]
    }
   ],
   "source": [
    "data = dataset.get_data()[0]\n",
    "modified_graph = data\n",
    "c = 0.1\n",
    "\n",
    "init_edges = len(modified_graph.edge_index[1])\n",
    "\n",
    "G, x, y, train_mask, test_mask = convert_to_networkx(modified_graph)\n",
    "\n",
    "# class_and_added = {label: [] for label in set(g.ndata[\"label\"].tolist())}\n",
    "\n",
    "# note this implementation is likely inefficient\n",
    "for i in range(0, num_classes):\n",
    "    for j in range(0, len(homophilic_set[i])):\n",
    "        edges = G.out_edges(homophilic_set[i][j])\n",
    "\n",
    "        same_class_edges = set()\n",
    "        for e in edges:\n",
    "            if (e[1] in homophilic_set[i]):\n",
    "                same_class_edges.add(e[1])\n",
    "\n",
    "        for k in range(0, math.floor(len(same_class_edges) * c)):\n",
    "            b_node = homophilic_set[i][j]\n",
    "            c_node = random.choice(homophilic_set[i])\n",
    "\n",
    "            ctr = 0\n",
    "            while (b_node == c_node or G.has_edge(b_node, c_node)) and ctr <= math.floor(len(same_class_edges) * c):\n",
    "                c_node = random.choice(homophilic_set[i])\n",
    "                ctr += 1\n",
    "\n",
    "            add_edge(G, b_node, c_node, undirected=True)\n",
    "            # class_and_added[i].append(len(same_class_edges))\n",
    "\n",
    "modified_graph = convert_to_pyg(G, x, y, train_mask, test_mask)\n",
    "final_edges = len(modified_graph.edge_index[1])\n",
    "\n",
    "output_accuracy_change(ground_truth, test_model(model, modified_graph))\n",
    "number_added_edges(init_edges, final_edges, is_undirected=True)\n",
    "\n",
    "# print(class_and_added)"
   ]
  },
  {
   "cell_type": "code",
   "execution_count": 10,
   "metadata": {},
   "outputs": [
    {
     "name": "stdout",
     "output_type": "stream",
     "text": [
      "\n",
      "----\n",
      "The accuracy has not changed.\n",
      "Change in edges:  2.0  | Percentage change: 0.04%\n"
     ]
    }
   ],
   "source": [
    "data = dataset.get_data()[0]\n",
    "modified_graph = data\n",
    "c = 0.15\n",
    "\n",
    "init_edges = len(modified_graph.edge_index[1])\n",
    "\n",
    "G, x, y, train_mask, test_mask = convert_to_networkx(modified_graph)\n",
    "\n",
    "# class_and_added = {label: [] for label in set(g.ndata[\"label\"].tolist())}\n",
    "\n",
    "# note this implementation is likely inefficient\n",
    "for i in range(0, num_classes):\n",
    "    for j in range(0, len(homophilic_set[i])):\n",
    "        edges = G.out_edges(homophilic_set[i][j])\n",
    "\n",
    "        same_class_edges = set()\n",
    "        for e in edges:\n",
    "            if (e[1] in homophilic_set[i]):\n",
    "                same_class_edges.add(e[1])\n",
    "\n",
    "        for k in range(0, math.floor(len(same_class_edges) * c)):\n",
    "            b_node = homophilic_set[i][j]\n",
    "            c_node = random.choice(homophilic_set[i])\n",
    "\n",
    "            ctr = 0\n",
    "            while (b_node == c_node or G.has_edge(b_node, c_node)) and ctr <= math.floor(len(same_class_edges) * c):\n",
    "                c_node = random.choice(homophilic_set[i])\n",
    "                ctr += 1\n",
    "\n",
    "            add_edge(G, b_node, c_node, undirected=True)\n",
    "            # class_and_added[i].append(len(same_class_edges))\n",
    "\n",
    "modified_graph = convert_to_pyg(G, x, y, train_mask, test_mask)\n",
    "final_edges = len(modified_graph.edge_index[1])\n",
    "\n",
    "output_accuracy_change(ground_truth, test_model(model, modified_graph))\n",
    "number_added_edges(init_edges, final_edges, is_undirected=True)\n",
    "\n",
    "# print(class_and_added)"
   ]
  },
  {
   "cell_type": "code",
   "execution_count": 11,
   "metadata": {},
   "outputs": [
    {
     "name": "stdout",
     "output_type": "stream",
     "text": [
      "\n",
      "----\n",
      "The accuracy has changed by 0.0020\n",
      "Change in edges:  10.0  | Percentage change: 0.22%\n"
     ]
    }
   ],
   "source": [
    "data = dataset.get_data()[0]\n",
    "modified_graph = data\n",
    "c = 0.20\n",
    "\n",
    "init_edges = len(modified_graph.edge_index[1])\n",
    "\n",
    "G, x, y, train_mask, test_mask = convert_to_networkx(modified_graph)\n",
    "\n",
    "# class_and_added = {label: [] for label in set(g.ndata[\"label\"].tolist())}\n",
    "\n",
    "# note this implementation is likely inefficient\n",
    "for i in range(0, num_classes):\n",
    "    for j in range(0, len(homophilic_set[i])):\n",
    "        edges = G.out_edges(homophilic_set[i][j])\n",
    "\n",
    "        same_class_edges = set()\n",
    "        for e in edges:\n",
    "            if (e[1] in homophilic_set[i]):\n",
    "                same_class_edges.add(e[1])\n",
    "\n",
    "        for k in range(0, math.floor(len(same_class_edges) * c)):\n",
    "            b_node = homophilic_set[i][j]\n",
    "            c_node = random.choice(homophilic_set[i])\n",
    "\n",
    "            ctr = 0\n",
    "            while (b_node == c_node or G.has_edge(b_node, c_node)) and ctr <= math.floor(len(same_class_edges) * c):\n",
    "                c_node = random.choice(homophilic_set[i])\n",
    "                ctr += 1\n",
    "\n",
    "            add_edge(G, b_node, c_node, undirected=True)\n",
    "            # class_and_added[i].append(len(same_class_edges))\n",
    "\n",
    "modified_graph = convert_to_pyg(G, x, y, train_mask, test_mask)\n",
    "final_edges = len(modified_graph.edge_index[1])\n",
    "\n",
    "output_accuracy_change(ground_truth, test_model(model, modified_graph))\n",
    "number_added_edges(init_edges, final_edges, is_undirected=True)\n",
    "\n",
    "# print(class_and_added)"
   ]
  },
  {
   "cell_type": "code",
   "execution_count": 12,
   "metadata": {},
   "outputs": [
    {
     "name": "stdout",
     "output_type": "stream",
     "text": [
      "\n",
      "----\n",
      "The accuracy has changed by -0.0010\n",
      "Change in edges:  14.0  | Percentage change: 0.31%\n"
     ]
    }
   ],
   "source": [
    "data = dataset.get_data()[0]\n",
    "modified_graph = data\n",
    "c = 0.25\n",
    "\n",
    "init_edges = len(modified_graph.edge_index[1])\n",
    "\n",
    "G, x, y, train_mask, test_mask = convert_to_networkx(modified_graph)\n",
    "\n",
    "# class_and_added = {label: [] for label in set(g.ndata[\"label\"].tolist())}\n",
    "\n",
    "# note this implementation is likely inefficient\n",
    "for i in range(0, num_classes):\n",
    "    for j in range(0, len(homophilic_set[i])):\n",
    "        edges = G.out_edges(homophilic_set[i][j])\n",
    "\n",
    "        same_class_edges = set()\n",
    "        for e in edges:\n",
    "            if (e[1] in homophilic_set[i]):\n",
    "                same_class_edges.add(e[1])\n",
    "\n",
    "        for k in range(0, math.floor(len(same_class_edges) * c)):\n",
    "            b_node = homophilic_set[i][j]\n",
    "            c_node = random.choice(homophilic_set[i])\n",
    "\n",
    "            ctr = 0\n",
    "            while (b_node == c_node or G.has_edge(b_node, c_node)) and ctr <= math.floor(len(same_class_edges) * c):\n",
    "                c_node = random.choice(homophilic_set[i])\n",
    "                ctr += 1\n",
    "\n",
    "            add_edge(G, b_node, c_node, undirected=True)\n",
    "            # class_and_added[i].append(len(same_class_edges))\n",
    "\n",
    "modified_graph = convert_to_pyg(G, x, y, train_mask, test_mask)\n",
    "final_edges = len(modified_graph.edge_index[1])\n",
    "\n",
    "output_accuracy_change(ground_truth, test_model(model, modified_graph))\n",
    "number_added_edges(init_edges, final_edges, is_undirected=True)\n",
    "\n",
    "# print(class_and_added)"
   ]
  },
  {
   "cell_type": "code",
   "execution_count": 13,
   "metadata": {},
   "outputs": [
    {
     "name": "stdout",
     "output_type": "stream",
     "text": [
      "\n",
      "----\n",
      "The accuracy has changed by 0.0030\n",
      "Change in edges:  16.0  | Percentage change: 0.35%\n"
     ]
    }
   ],
   "source": [
    "data = dataset.get_data()[0]\n",
    "modified_graph = data\n",
    "c = 0.3\n",
    "\n",
    "init_edges = len(modified_graph.edge_index[1])\n",
    "\n",
    "G, x, y, train_mask, test_mask = convert_to_networkx(modified_graph)\n",
    "\n",
    "# class_and_added = {label: [] for label in set(g.ndata[\"label\"].tolist())}\n",
    "\n",
    "# note this implementation is likely inefficient\n",
    "for i in range(0, num_classes):\n",
    "    for j in range(0, len(homophilic_set[i])):\n",
    "        edges = G.out_edges(homophilic_set[i][j])\n",
    "\n",
    "        same_class_edges = set()\n",
    "        for e in edges:\n",
    "            if (e[1] in homophilic_set[i]):\n",
    "                same_class_edges.add(e[1])\n",
    "\n",
    "        for k in range(0, math.floor(len(same_class_edges) * c)):\n",
    "            b_node = homophilic_set[i][j]\n",
    "            c_node = random.choice(homophilic_set[i])\n",
    "\n",
    "            ctr = 0\n",
    "            while (b_node == c_node or G.has_edge(b_node, c_node)) and ctr <= math.floor(len(same_class_edges) * c):\n",
    "                c_node = random.choice(homophilic_set[i])\n",
    "                ctr += 1\n",
    "\n",
    "            add_edge(G, b_node, c_node, undirected=True)\n",
    "            # class_and_added[i].append(len(same_class_edges))\n",
    "\n",
    "modified_graph = convert_to_pyg(G, x, y, train_mask, test_mask)\n",
    "final_edges = len(modified_graph.edge_index[1])\n",
    "\n",
    "output_accuracy_change(ground_truth, test_model(model, modified_graph))\n",
    "number_added_edges(init_edges, final_edges, is_undirected=True)\n",
    "\n",
    "# print(class_and_added)"
   ]
  },
  {
   "cell_type": "code",
   "execution_count": 14,
   "metadata": {},
   "outputs": [
    {
     "name": "stdout",
     "output_type": "stream",
     "text": [
      "\n",
      "----\n",
      "The accuracy has changed by 0.0120\n",
      "Change in edges:  60.0  | Percentage change: 1.32%\n"
     ]
    }
   ],
   "source": [
    "data = dataset.get_data()[0]\n",
    "modified_graph = data\n",
    "c = 1/3\n",
    "\n",
    "init_edges = len(modified_graph.edge_index[1])\n",
    "\n",
    "G, x, y, train_mask, test_mask = convert_to_networkx(modified_graph)\n",
    "\n",
    "# class_and_added = {label: [] for label in set(g.ndata[\"label\"].tolist())}\n",
    "\n",
    "# note this implementation is likely inefficient\n",
    "for i in range(0, num_classes):\n",
    "    for j in range(0, len(homophilic_set[i])):\n",
    "        edges = G.out_edges(homophilic_set[i][j])\n",
    "\n",
    "        same_class_edges = set()\n",
    "        for e in edges:\n",
    "            if (e[1] in homophilic_set[i]):\n",
    "                same_class_edges.add(e[1])\n",
    "\n",
    "        for k in range(0, math.floor(len(same_class_edges) * c)):\n",
    "            b_node = homophilic_set[i][j]\n",
    "            c_node = random.choice(homophilic_set[i])\n",
    "\n",
    "            ctr = 0\n",
    "            while (b_node == c_node or G.has_edge(b_node, c_node)) and ctr <= math.floor(len(same_class_edges) * c):\n",
    "                c_node = random.choice(homophilic_set[i])\n",
    "                ctr += 1\n",
    "\n",
    "            add_edge(G, b_node, c_node, undirected=True)\n",
    "            # class_and_added[i].append(len(same_class_edges))\n",
    "\n",
    "modified_graph = convert_to_pyg(G, x, y, train_mask, test_mask)\n",
    "final_edges = len(modified_graph.edge_index[1])\n",
    "\n",
    "output_accuracy_change(ground_truth, test_model(model, modified_graph))\n",
    "number_added_edges(init_edges, final_edges, is_undirected=True)\n",
    "\n",
    "# print(class_and_added)"
   ]
  },
  {
   "cell_type": "code",
   "execution_count": 15,
   "metadata": {},
   "outputs": [
    {
     "name": "stdout",
     "output_type": "stream",
     "text": [
      "\n",
      "----\n",
      "The accuracy has changed by 0.0080\n",
      "Change in edges:  60.0  | Percentage change: 1.32%\n"
     ]
    }
   ],
   "source": [
    "data = dataset.get_data()[0]\n",
    "modified_graph = data\n",
    "c = 0.35\n",
    "\n",
    "init_edges = len(modified_graph.edge_index[1])\n",
    "\n",
    "G, x, y, train_mask, test_mask = convert_to_networkx(modified_graph)\n",
    "\n",
    "# class_and_added = {label: [] for label in set(g.ndata[\"label\"].tolist())}\n",
    "\n",
    "# note this implementation is likely inefficient\n",
    "for i in range(0, num_classes):\n",
    "    for j in range(0, len(homophilic_set[i])):\n",
    "        edges = G.out_edges(homophilic_set[i][j])\n",
    "\n",
    "        same_class_edges = set()\n",
    "        for e in edges:\n",
    "            if (e[1] in homophilic_set[i]):\n",
    "                same_class_edges.add(e[1])\n",
    "\n",
    "        for k in range(0, math.floor(len(same_class_edges) * c)):\n",
    "            b_node = homophilic_set[i][j]\n",
    "            c_node = random.choice(homophilic_set[i])\n",
    "\n",
    "            ctr = 0\n",
    "            while (b_node == c_node or G.has_edge(b_node, c_node)) and ctr <= math.floor(len(same_class_edges) * c):\n",
    "                c_node = random.choice(homophilic_set[i])\n",
    "                ctr += 1\n",
    "\n",
    "            add_edge(G, b_node, c_node, undirected=True)\n",
    "            # class_and_added[i].append(len(same_class_edges))\n",
    "\n",
    "modified_graph = convert_to_pyg(G, x, y, train_mask, test_mask)\n",
    "final_edges = len(modified_graph.edge_index[1])\n",
    "\n",
    "output_accuracy_change(ground_truth, test_model(model, modified_graph))\n",
    "number_added_edges(init_edges, final_edges, is_undirected=True)\n",
    "\n",
    "# print(class_and_added)"
   ]
  },
  {
   "cell_type": "code",
   "execution_count": 16,
   "metadata": {},
   "outputs": [
    {
     "name": "stdout",
     "output_type": "stream",
     "text": [
      "\n",
      "----\n",
      "The accuracy has changed by 0.0280\n",
      "Change in edges:  166.0  | Percentage change: 3.65%\n"
     ]
    }
   ],
   "source": [
    "data = dataset.get_data()[0]\n",
    "modified_graph = data\n",
    "c = 0.5\n",
    "\n",
    "init_edges = len(modified_graph.edge_index[1])\n",
    "\n",
    "G, x, y, train_mask, test_mask = convert_to_networkx(modified_graph)\n",
    "\n",
    "# class_and_added = {label: [] for label in set(g.ndata[\"label\"].tolist())}\n",
    "\n",
    "# note this implementation is likely inefficient\n",
    "for i in range(0, num_classes):\n",
    "    for j in range(0, len(homophilic_set[i])):\n",
    "        edges = G.out_edges(homophilic_set[i][j])\n",
    "\n",
    "        same_class_edges = set()\n",
    "        for e in edges:\n",
    "            if (e[1] in homophilic_set[i]):\n",
    "                same_class_edges.add(e[1])\n",
    "\n",
    "        for k in range(0, math.floor(len(same_class_edges) * c)):\n",
    "            b_node = homophilic_set[i][j]\n",
    "            c_node = random.choice(homophilic_set[i])\n",
    "\n",
    "            ctr = 0\n",
    "            while (b_node == c_node or G.has_edge(b_node, c_node)) and ctr <= math.floor(len(same_class_edges) * c):\n",
    "                c_node = random.choice(homophilic_set[i])\n",
    "                ctr += 1\n",
    "\n",
    "            add_edge(G, b_node, c_node, undirected=True)\n",
    "            # class_and_added[i].append(len(same_class_edges))\n",
    "\n",
    "modified_graph = convert_to_pyg(G, x, y, train_mask, test_mask)\n",
    "final_edges = len(modified_graph.edge_index[1])\n",
    "\n",
    "output_accuracy_change(ground_truth, test_model(model, modified_graph))\n",
    "number_added_edges(init_edges, final_edges, is_undirected=True)\n",
    "\n",
    "# print(class_and_added)"
   ]
  }
 ],
 "metadata": {
  "kernelspec": {
   "display_name": "Python 3 (ipykernel)",
   "language": "python",
   "name": "python3"
  },
  "language_info": {
   "codemirror_mode": {
    "name": "ipython",
    "version": 3
   },
   "file_extension": ".py",
   "mimetype": "text/x-python",
   "name": "python",
   "nbconvert_exporter": "python",
   "pygments_lexer": "ipython3",
   "version": "3.8.18"
  }
 },
 "nbformat": 4,
 "nbformat_minor": 4
}
