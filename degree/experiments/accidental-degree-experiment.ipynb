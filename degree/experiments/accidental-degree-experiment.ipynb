{
 "cells": [
  {
   "cell_type": "code",
   "execution_count": 1,
   "metadata": {},
   "outputs": [
    {
     "name": "stderr",
     "output_type": "stream",
     "text": [
      "/home/niyati/miniconda3/lib/python3.11/site-packages/torch_geometric/typing.py:54: UserWarning: An issue occurred while importing 'pyg-lib'. Disabling its usage. Stacktrace: /lib64/libm.so.6: version `GLIBC_2.27' not found (required by /home/niyati/miniconda3/lib/python3.11/site-packages/libpyg.so)\n",
      "  warnings.warn(f\"An issue occurred while importing 'pyg-lib'. \"\n",
      "/home/niyati/miniconda3/lib/python3.11/site-packages/torch_geometric/typing.py:110: UserWarning: An issue occurred while importing 'torch-sparse'. Disabling its usage. Stacktrace: /lib64/libm.so.6: version `GLIBC_2.27' not found (required by /home/niyati/miniconda3/lib/python3.11/site-packages/libpyg.so)\n",
      "  warnings.warn(f\"An issue occurred while importing 'torch-sparse'. \"\n"
     ]
    },
    {
     "name": "stdout",
     "output_type": "stream",
     "text": [
      "Imports finished.\n"
     ]
    }
   ],
   "source": [
    "# these warnings are fine. you can ignore them.\n",
    "from util import *\n",
    "import numpy as np\n",
    "import random, math\n",
    "\n",
    "device = torch.device('cuda' if torch.cuda.is_available() else 'cpu')\n",
    "print(\"Imports finished.\")"
   ]
  },
  {
   "cell_type": "markdown",
   "metadata": {},
   "source": [
    "# Setting Up Dataset/Model/Ground Truth"
   ]
  },
  {
   "cell_type": "code",
   "execution_count": 2,
   "metadata": {},
   "outputs": [
    {
     "name": "stdout",
     "output_type": "stream",
     "text": [
      "0.749\n"
     ]
    }
   ],
   "source": [
    "dataset = Dataset(root='/tmp/Cora', name='Cora', device=device)\n",
    "data, in_feats, h_feats, num_classes = dataset.get_data()\n",
    "\n",
    "model = get_model(in_feats, h_feats, num_classes)\n",
    "\n",
    "ground_truth = get_ground_truth(model, data)\n",
    "print(ground_truth)"
   ]
  },
  {
   "cell_type": "markdown",
   "metadata": {},
   "source": [
    "# Experiments\n",
    "**Note:** The ground truth here is $0.749$\n",
    "\n",
    "**Note:** This experiment was done before the development of new functions. The experiments will not work until transferred over to current function."
   ]
  },
  {
   "cell_type": "markdown",
   "metadata": {},
   "source": [
    "#### Accidental Degree Experiment"
   ]
  },
  {
   "cell_type": "code",
   "execution_count": 12,
   "metadata": {},
   "outputs": [
    {
     "name": "stdout",
     "output_type": "stream",
     "text": [
      "\n",
      "----\n",
      "The accuracy has changed by -0.0020\n",
      "Change in edges:  2739.0  | Percentage change: 103.79%\n"
     ]
    }
   ],
   "source": [
    "from collections import defaultdict\n",
    "import torch_geometric.utils as pyg_utils\n",
    "# Assuming reset_dataset() is defined and initializes the graph correctly.\n",
    "data = dataset.get_data()[0]\n",
    "G = pyg_utils.to_networkx(data, to_undirected=True)\n",
    "\n",
    "init_edges = G.number_of_edges()\n",
    "\n",
    "num_nodes = G.number_of_nodes()\n",
    "num_edges_to_add = 100\n",
    "\n",
    "#existing_edges = set(modified_graph.edges())\n",
    "potential_edges = [(i, j) for i in range(num_nodes) for j in range(i + 1, num_nodes) if not G.has_edge(i, j)]\n",
    "\n",
    "random.shuffle(potential_edges)  # Shuffle to randomize which edges are considered\n",
    "edges_to_add = potential_edges[:num_edges_to_add]\n",
    "\n",
    "for i, j in edges_to_add:\n",
    "    G.add_edge(i, j)\n",
    "\n",
    "\n",
    "\n",
    "modified_graph = convert_to_pyg(G, x, y, train_mask, test_mask)\n",
    "final_edges = len(modified_graph.edge_index[1])\n",
    "\n",
    "output_accuracy_change(ground_truth, test_model(model, modified_graph)) \n",
    "number_added_edges(init_edges, final_edges, is_undirected=True)"
   ]
  },
  {
   "cell_type": "code",
   "execution_count": 9,
   "metadata": {},
   "outputs": [
    {
     "name": "stdout",
     "output_type": "stream",
     "text": [
      "\n",
      "----\n",
      "The accuracy has changed by -0.0010\n",
      "Change in edges:  2839.0  | Percentage change: 107.58%\n"
     ]
    }
   ],
   "source": [
    "from collections import defaultdict\n",
    "import torch_geometric.utils as pyg_utils\n",
    "# Assuming reset_dataset() is defined and initializes the graph correctly.\n",
    "data = dataset.get_data()[0]\n",
    "G = pyg_utils.to_networkx(data, to_undirected=True)\n",
    "\n",
    "init_edges = G.number_of_edges()\n",
    "\n",
    "num_nodes = G.number_of_nodes()\n",
    "num_edges_to_add = 200\n",
    "\n",
    "#existing_edges = set(modified_graph.edges())\n",
    "potential_edges = [(i, j) for i in range(num_nodes) for j in range(i + 1, num_nodes) if not G.has_edge(i, j)]\n",
    "\n",
    "random.shuffle(potential_edges)  # Shuffle to randomize which edges are considered\n",
    "edges_to_add = potential_edges[:num_edges_to_add]\n",
    "\n",
    "for i, j in edges_to_add:\n",
    "    G.add_edge(i, j)\n",
    "\n",
    "\n",
    "\n",
    "modified_graph = convert_to_pyg(G, x, y, train_mask, test_mask)\n",
    "final_edges = len(modified_graph.edge_index[1])\n",
    "\n",
    "output_accuracy_change(ground_truth, test_model(model, modified_graph)) \n",
    "number_added_edges(init_edges, final_edges, is_undirected=True)"
   ]
  },
  {
   "cell_type": "code",
   "execution_count": 10,
   "metadata": {},
   "outputs": [
    {
     "name": "stdout",
     "output_type": "stream",
     "text": [
      "\n",
      "----\n",
      "The accuracy has changed by -0.0120\n",
      "Change in edges:  2939.0  | Percentage change: 111.37%\n"
     ]
    }
   ],
   "source": [
    "from collections import defaultdict\n",
    "import torch_geometric.utils as pyg_utils\n",
    "# Assuming reset_dataset() is defined and initializes the graph correctly.\n",
    "data = dataset.get_data()[0]\n",
    "G = pyg_utils.to_networkx(data, to_undirected=True)\n",
    "\n",
    "init_edges = G.number_of_edges()\n",
    "\n",
    "num_nodes = G.number_of_nodes()\n",
    "num_edges_to_add = 300\n",
    "\n",
    "#existing_edges = set(modified_graph.edges())\n",
    "potential_edges = [(i, j) for i in range(num_nodes) for j in range(i + 1, num_nodes) if not G.has_edge(i, j)]\n",
    "\n",
    "random.shuffle(potential_edges)  # Shuffle to randomize which edges are considered\n",
    "edges_to_add = potential_edges[:num_edges_to_add]\n",
    "\n",
    "for i, j in edges_to_add:\n",
    "    G.add_edge(i, j)\n",
    "\n",
    "\n",
    "\n",
    "modified_graph = convert_to_pyg(G, x, y, train_mask, test_mask)\n",
    "final_edges = len(modified_graph.edge_index[1])\n",
    "\n",
    "output_accuracy_change(ground_truth, test_model(model, modified_graph)) \n",
    "number_added_edges(init_edges, final_edges, is_undirected=True)"
   ]
  },
  {
   "cell_type": "code",
   "execution_count": 13,
   "metadata": {},
   "outputs": [
    {
     "name": "stdout",
     "output_type": "stream",
     "text": [
      "\n",
      "----\n",
      "The accuracy has changed by -0.0130\n",
      "Change in edges:  3039.0  | Percentage change: 115.16%\n"
     ]
    }
   ],
   "source": [
    "from collections import defaultdict\n",
    "import torch_geometric.utils as pyg_utils\n",
    "# Assuming reset_dataset() is defined and initializes the graph correctly.\n",
    "data = dataset.get_data()[0]\n",
    "G = pyg_utils.to_networkx(data, to_undirected=True)\n",
    "\n",
    "init_edges = G.number_of_edges()\n",
    "\n",
    "num_nodes = G.number_of_nodes()\n",
    "num_edges_to_add = 400\n",
    "\n",
    "#existing_edges = set(modified_graph.edges())\n",
    "potential_edges = [(i, j) for i in range(num_nodes) for j in range(i + 1, num_nodes) if not G.has_edge(i, j)]\n",
    "\n",
    "random.shuffle(potential_edges)  # Shuffle to randomize which edges are considered\n",
    "edges_to_add = potential_edges[:num_edges_to_add]\n",
    "\n",
    "for i, j in edges_to_add:\n",
    "    G.add_edge(i, j)\n",
    "\n",
    "\n",
    "\n",
    "modified_graph = convert_to_pyg(G, x, y, train_mask, test_mask)\n",
    "final_edges = len(modified_graph.edge_index[1])\n",
    "\n",
    "output_accuracy_change(ground_truth, test_model(model, modified_graph)) \n",
    "number_added_edges(init_edges, final_edges, is_undirected=True)"
   ]
  },
  {
   "cell_type": "code",
   "execution_count": 14,
   "metadata": {},
   "outputs": [
    {
     "name": "stdout",
     "output_type": "stream",
     "text": [
      "\n",
      "----\n",
      "The accuracy has changed by -0.0190\n",
      "Change in edges:  3139.0  | Percentage change: 118.95%\n"
     ]
    }
   ],
   "source": [
    "from collections import defaultdict\n",
    "import torch_geometric.utils as pyg_utils\n",
    "# Assuming reset_dataset() is defined and initializes the graph correctly.\n",
    "data = dataset.get_data()[0]\n",
    "G = pyg_utils.to_networkx(data, to_undirected=True)\n",
    "\n",
    "init_edges = G.number_of_edges()\n",
    "\n",
    "num_nodes = G.number_of_nodes()\n",
    "num_edges_to_add = 500\n",
    "\n",
    "#existing_edges = set(modified_graph.edges())\n",
    "potential_edges = [(i, j) for i in range(num_nodes) for j in range(i + 1, num_nodes) if not G.has_edge(i, j)]\n",
    "\n",
    "random.shuffle(potential_edges)  # Shuffle to randomize which edges are considered\n",
    "edges_to_add = potential_edges[:num_edges_to_add]\n",
    "\n",
    "for i, j in edges_to_add:\n",
    "    G.add_edge(i, j)\n",
    "\n",
    "\n",
    "\n",
    "modified_graph = convert_to_pyg(G, x, y, train_mask, test_mask)\n",
    "final_edges = len(modified_graph.edge_index[1])\n",
    "\n",
    "output_accuracy_change(ground_truth, test_model(model, modified_graph)) \n",
    "number_added_edges(init_edges, final_edges, is_undirected=True)"
   ]
  },
  {
   "cell_type": "code",
   "execution_count": 15,
   "metadata": {},
   "outputs": [
    {
     "name": "stdout",
     "output_type": "stream",
     "text": [
      "\n",
      "----\n",
      "The accuracy has changed by -0.0130\n",
      "Change in edges:  3239.0  | Percentage change: 122.74%\n"
     ]
    }
   ],
   "source": [
    "from collections import defaultdict\n",
    "import torch_geometric.utils as pyg_utils\n",
    "# Assuming reset_dataset() is defined and initializes the graph correctly.\n",
    "data = dataset.get_data()[0]\n",
    "G = pyg_utils.to_networkx(data, to_undirected=True)\n",
    "\n",
    "init_edges = G.number_of_edges()\n",
    "\n",
    "num_nodes = G.number_of_nodes()\n",
    "num_edges_to_add = 600\n",
    "\n",
    "#existing_edges = set(modified_graph.edges())\n",
    "potential_edges = [(i, j) for i in range(num_nodes) for j in range(i + 1, num_nodes) if not G.has_edge(i, j)]\n",
    "\n",
    "random.shuffle(potential_edges)  # Shuffle to randomize which edges are considered\n",
    "edges_to_add = potential_edges[:num_edges_to_add]\n",
    "\n",
    "for i, j in edges_to_add:\n",
    "    G.add_edge(i, j)\n",
    "\n",
    "\n",
    "\n",
    "modified_graph = convert_to_pyg(G, x, y, train_mask, test_mask)\n",
    "final_edges = len(modified_graph.edge_index[1])\n",
    "\n",
    "output_accuracy_change(ground_truth, test_model(model, modified_graph)) \n",
    "number_added_edges(init_edges, final_edges, is_undirected=True)"
   ]
  },
  {
   "cell_type": "code",
   "execution_count": null,
   "metadata": {},
   "outputs": [],
   "source": []
  }
 ],
 "metadata": {
  "kernelspec": {
   "display_name": "Python 3 (ipykernel)",
   "language": "python",
   "name": "python3"
  },
  "language_info": {
   "codemirror_mode": {
    "name": "ipython",
    "version": 3
   },
   "file_extension": ".py",
   "mimetype": "text/x-python",
   "name": "python",
   "nbconvert_exporter": "python",
   "pygments_lexer": "ipython3",
   "version": "3.11.5"
  }
 },
 "nbformat": 4,
 "nbformat_minor": 4
}
