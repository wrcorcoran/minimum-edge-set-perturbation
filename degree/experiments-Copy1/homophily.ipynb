{
 "cells": [
  {
   "cell_type": "code",
   "execution_count": 2,
   "metadata": {},
   "outputs": [
    {
     "name": "stderr",
     "output_type": "stream",
     "text": [
      "/home/niyati/miniconda3/lib/python3.11/site-packages/torch_geometric/typing.py:54: UserWarning: An issue occurred while importing 'pyg-lib'. Disabling its usage. Stacktrace: /lib64/libm.so.6: version `GLIBC_2.27' not found (required by /home/niyati/miniconda3/lib/python3.11/site-packages/libpyg.so)\n",
      "  warnings.warn(f\"An issue occurred while importing 'pyg-lib'. \"\n",
      "/home/niyati/miniconda3/lib/python3.11/site-packages/torch_geometric/typing.py:110: UserWarning: An issue occurred while importing 'torch-sparse'. Disabling its usage. Stacktrace: /lib64/libm.so.6: version `GLIBC_2.27' not found (required by /home/niyati/miniconda3/lib/python3.11/site-packages/libpyg.so)\n",
      "  warnings.warn(f\"An issue occurred while importing 'torch-sparse'. \"\n"
     ]
    },
    {
     "name": "stdout",
     "output_type": "stream",
     "text": [
      "Imports finished.\n"
     ]
    }
   ],
   "source": [
    "# these warnings are fine. you can ignore them.\n",
    "from util import *\n",
    "import random, math\n",
    "\n",
    "device = torch.device('cuda' if torch.cuda.is_available() else 'cpu')\n",
    "print(\"Imports finished.\")"
   ]
  },
  {
   "cell_type": "markdown",
   "metadata": {},
   "source": [
    "# Setting Up Dataset/Model/Ground Truth"
   ]
  },
  {
   "cell_type": "code",
   "execution_count": 3,
   "metadata": {},
   "outputs": [
    {
     "name": "stdout",
     "output_type": "stream",
     "text": [
      "0.749\n"
     ]
    }
   ],
   "source": [
    "dataset = Dataset(root='/tmp/Cora', name='Cora', device=device)\n",
    "data, in_feats, h_feats, num_classes = dataset.get_data()\n",
    "\n",
    "model = get_model(in_feats, h_feats, num_classes)\n",
    "\n",
    "ground_truth = get_ground_truth(model, data)\n",
    "print(ground_truth)"
   ]
  },
  {
   "cell_type": "markdown",
   "metadata": {},
   "source": [
    "# Experiments\n",
    "**Note:** The ground truth here is $0.749$"
   ]
  },
  {
   "cell_type": "code",
   "execution_count": 4,
   "metadata": {},
   "outputs": [],
   "source": [
    "homophilic_set = {label: [] for label in set(data.y.tolist())}\n",
    "\n",
    "test_indices = torch.nonzero(data.test_mask, as_tuple=False).squeeze()\n",
    "for i in test_indices:\n",
    "    homophilic_set[data.y[i].item()].append(i.item())\n",
    "\n",
    "# print(\"This is the dictionary containing each class and its respective elements:\\n\\t\", homophilic_set)"
   ]
  },
  {
   "cell_type": "markdown",
   "metadata": {},
   "source": [
    "### Connect with same class nodes which do not already have edges\n",
    "Take the first element in a class and add edges to all OTHER elements in that class if they do not currently exist."
   ]
  },
  {
   "cell_type": "code",
   "execution_count": 5,
   "metadata": {},
   "outputs": [
    {
     "name": "stdout",
     "output_type": "stream",
     "text": [
      "\n",
      "----\n",
      "The accuracy has changed by 0.0030\n",
      "Change in edges:  974.0  | Percentage change: 18.45%\n"
     ]
    }
   ],
   "source": [
    "data = dataset.get_data()[0]\n",
    "modified_graph = data\n",
    "\n",
    "init_edges = len(modified_graph.edge_index[1])\n",
    "\n",
    "G, x, y, train_mask, test_mask = convert_to_networkx(modified_graph)\n",
    "\n",
    "for i in range(0, num_classes):\n",
    "    for j in range(1, len(homophilic_set[i])):\n",
    "        if not G.has_edge(i, j):\n",
    "            add_edge(G, i, j, undirected=True)\n",
    "\n",
    "modified_graph = convert_to_pyg(G, x, y, train_mask, test_mask)\n",
    "final_edges = len(modified_graph.edge_index[1])\n",
    "\n",
    "output_accuracy_change(ground_truth, test_model(model, modified_graph)) \n",
    "number_added_edges(init_edges, final_edges, is_undirected=True)"
   ]
  },
  {
   "cell_type": "markdown",
   "metadata": {},
   "source": [
    "### Connect same class nodes with one other random nodes (which is is not currently a neighbor to)"
   ]
  },
  {
   "cell_type": "code",
   "execution_count": 6,
   "metadata": {},
   "outputs": [
    {
     "name": "stdout",
     "output_type": "stream",
     "text": [
      "\n",
      "----\n",
      "The accuracy has changed by 0.0030\n",
      "Change in edges:  7.0  | Percentage change: 0.13%\n"
     ]
    }
   ],
   "source": [
    "data = dataset.get_data()[0]\n",
    "modified_graph = data\n",
    "\n",
    "init_edges = len(modified_graph.edge_index[1])\n",
    "\n",
    "G, x, y, train_mask, test_mask = convert_to_networkx(modified_graph)\n",
    "\n",
    "for i in range(0, num_classes):\n",
    "    r_node = random.choice(homophilic_set[i])\n",
    "    n_node = random.choice(homophilic_set[i])\n",
    "\n",
    "    while r_node == n_node or G.has_edge(r_node, n_node):\n",
    "        n_node = random.choice(homophilic_set[i])\n",
    "\n",
    "    add_edge(G, r_node, n_node, undirected=True)\n",
    "\n",
    "modified_graph = convert_to_pyg(G, x, y, train_mask, test_mask)\n",
    "final_edges = len(modified_graph.edge_index[1])\n",
    "\n",
    "output_accuracy_change(ground_truth, test_model(model, modified_graph)) \n",
    "number_added_edges(init_edges, final_edges, is_undirected=True)"
   ]
  },
  {
   "cell_type": "markdown",
   "metadata": {},
   "source": [
    "### Create a dense graph between all nodes with the same class"
   ]
  },
  {
   "cell_type": "code",
   "execution_count": 7,
   "metadata": {},
   "outputs": [
    {
     "name": "stdout",
     "output_type": "stream",
     "text": [
      "\n",
      "----\n",
      "The accuracy has changed by -0.2510\n",
      "Change in edges:  91256.0\n"
     ]
    }
   ],
   "source": [
    "data = dataset.get_data()[0]\n",
    "modified_graph = data\n",
    "\n",
    "init_edges = len(modified_graph.edge_index[1])\n",
    "\n",
    "G, x, y, train_mask, test_mask = convert_to_networkx(modified_graph)\n",
    "\n",
    "for i in range(0, num_classes):\n",
    "    for j in range(0, len(homophilic_set[i])):\n",
    "        for k in range(j + 1, len(homophilic_set[i])):\n",
    "            j_node = homophilic_set[i][j]\n",
    "            k_node = homophilic_set[i][k]\n",
    "            if j_node == k_node or G.has_edge(j_node, k_node):\n",
    "                continue\n",
    "\n",
    "            add_edge(G, j_node, k_node, undirected=True)\n",
    "\n",
    "modified_graph = convert_to_pyg(G, x, y, train_mask, test_mask)\n",
    "final_edges = len(modified_graph.edge_index[1])\n",
    "\n",
    "output_accuracy_change(ground_truth, test_model(model, modified_graph))\n",
    "number_added_edges(init_edges, final_edges, is_undirected=True)"
   ]
  },
  {
   "cell_type": "markdown",
   "metadata": {},
   "source": [
    "#### Increase each node's number homophilic edges by a certain threshold?\n",
    "Let's start with $\\lfloor 0.1 \\times h_e \\rfloor$, where $h_e$ is the number of homophilic edges.\n",
    "In the current implementation, the nodes which are seen last likely see more nodes added."
   ]
  },
  {
   "cell_type": "code",
   "execution_count": 26,
   "metadata": {},
   "outputs": [
    {
     "name": "stdout",
     "output_type": "stream",
     "text": [
      "\n",
      "----\n",
      "The accuracy has changed by -0.0010\n",
      "Change in edges:  4.0\n"
     ]
    }
   ],
   "source": [
    "data = dataset.get_data()[0]\n",
    "modified_graph = data\n",
    "c = 0.1\n",
    "\n",
    "init_edges = len(modified_graph.edge_index[1])\n",
    "\n",
    "G, x, y, train_mask, test_mask = convert_to_networkx(modified_graph)\n",
    "\n",
    "# class_and_added = {label: [] for label in set(g.ndata[\"label\"].tolist())}\n",
    "\n",
    "# note this implementation is likely inefficient\n",
    "for i in range(0, num_classes):\n",
    "    for j in range(0, len(homophilic_set[i])):\n",
    "        edges = G.out_edges(homophilic_set[i][j])\n",
    "\n",
    "        same_class_edges = set()\n",
    "        for e in edges:\n",
    "            if (e[1] in homophilic_set[i]):\n",
    "                same_class_edges.add(e[1])\n",
    "\n",
    "        for k in range(0, math.floor(len(same_class_edges) * c)):\n",
    "            b_node = homophilic_set[i][j]\n",
    "            c_node = random.choice(homophilic_set[i])\n",
    "\n",
    "            ctr = 0\n",
    "            while (b_node == c_node or G.has_edge(b_node, c_node)) and ctr <= math.floor(len(same_class_edges) * c):\n",
    "                c_node = random.choice(homophilic_set[i])\n",
    "                ctr += 1\n",
    "\n",
    "            add_edge(G, b_node, c_node, undirected=True)\n",
    "            # class_and_added[i].append(len(same_class_edges))\n",
    "\n",
    "modified_graph = convert_to_pyg(G, x, y, train_mask, test_mask)\n",
    "final_edges = len(modified_graph.edge_index[1])\n",
    "\n",
    "output_accuracy_change(ground_truth, test_model(model, modified_graph))\n",
    "number_added_edges(init_edges, final_edges, is_undirected=True)\n",
    "\n",
    "# print(class_and_added)"
   ]
  },
  {
   "cell_type": "code",
   "execution_count": 28,
   "metadata": {},
   "outputs": [
    {
     "name": "stdout",
     "output_type": "stream",
     "text": [
      "\n",
      "----\n",
      "The accuracy has changed by -0.0010\n",
      "Change in edges:  11.0\n"
     ]
    }
   ],
   "source": [
    "data = dataset.get_data()[0]\n",
    "modified_graph = data\n",
    "c = 0.15\n",
    "\n",
    "init_edges = len(modified_graph.edge_index[1])\n",
    "\n",
    "G, x, y, train_mask, test_mask = convert_to_networkx(modified_graph)\n",
    "\n",
    "# class_and_added = {label: [] for label in set(g.ndata[\"label\"].tolist())}\n",
    "\n",
    "# note this implementation is likely inefficient\n",
    "for i in range(0, num_classes):\n",
    "    for j in range(0, len(homophilic_set[i])):\n",
    "        edges = G.out_edges(homophilic_set[i][j])\n",
    "\n",
    "        same_class_edges = set()\n",
    "        for e in edges:\n",
    "            if (e[1] in homophilic_set[i]):\n",
    "                same_class_edges.add(e[1])\n",
    "\n",
    "        for k in range(0, math.floor(len(same_class_edges) * c)):\n",
    "            b_node = homophilic_set[i][j]\n",
    "            c_node = random.choice(homophilic_set[i])\n",
    "\n",
    "            ctr = 0\n",
    "            while (b_node == c_node or G.has_edge(b_node, c_node)) and ctr <= math.floor(len(same_class_edges) * c):\n",
    "                c_node = random.choice(homophilic_set[i])\n",
    "                ctr += 1\n",
    "\n",
    "            add_edge(G, b_node, c_node, undirected=True)\n",
    "            # class_and_added[i].append(len(same_class_edges))\n",
    "\n",
    "modified_graph = convert_to_pyg(G, x, y, train_mask, test_mask)\n",
    "final_edges = len(modified_graph.edge_index[1])\n",
    "\n",
    "output_accuracy_change(ground_truth, test_model(model, modified_graph))\n",
    "number_added_edges(init_edges, final_edges, is_undirected=True)\n",
    "\n",
    "# print(class_and_added)"
   ]
  },
  {
   "cell_type": "code",
   "execution_count": 29,
   "metadata": {},
   "outputs": [
    {
     "name": "stdout",
     "output_type": "stream",
     "text": [
      "\n",
      "----\n",
      "The accuracy has changed by -0.0030\n",
      "Change in edges:  28.0\n"
     ]
    }
   ],
   "source": [
    "data = dataset.get_data()[0]\n",
    "modified_graph = data\n",
    "c = 0.20\n",
    "\n",
    "init_edges = len(modified_graph.edge_index[1])\n",
    "\n",
    "G, x, y, train_mask, test_mask = convert_to_networkx(modified_graph)\n",
    "\n",
    "# class_and_added = {label: [] for label in set(g.ndata[\"label\"].tolist())}\n",
    "\n",
    "# note this implementation is likely inefficient\n",
    "for i in range(0, num_classes):\n",
    "    for j in range(0, len(homophilic_set[i])):\n",
    "        edges = G.out_edges(homophilic_set[i][j])\n",
    "\n",
    "        same_class_edges = set()\n",
    "        for e in edges:\n",
    "            if (e[1] in homophilic_set[i]):\n",
    "                same_class_edges.add(e[1])\n",
    "\n",
    "        for k in range(0, math.floor(len(same_class_edges) * c)):\n",
    "            b_node = homophilic_set[i][j]\n",
    "            c_node = random.choice(homophilic_set[i])\n",
    "\n",
    "            ctr = 0\n",
    "            while (b_node == c_node or G.has_edge(b_node, c_node)) and ctr <= math.floor(len(same_class_edges) * c):\n",
    "                c_node = random.choice(homophilic_set[i])\n",
    "                ctr += 1\n",
    "\n",
    "            add_edge(G, b_node, c_node, undirected=True)\n",
    "            # class_and_added[i].append(len(same_class_edges))\n",
    "\n",
    "modified_graph = convert_to_pyg(G, x, y, train_mask, test_mask)\n",
    "final_edges = len(modified_graph.edge_index[1])\n",
    "\n",
    "output_accuracy_change(ground_truth, test_model(model, modified_graph))\n",
    "number_added_edges(init_edges, final_edges, is_undirected=True)\n",
    "\n",
    "# print(class_and_added)"
   ]
  },
  {
   "cell_type": "code",
   "execution_count": 30,
   "metadata": {},
   "outputs": [
    {
     "name": "stdout",
     "output_type": "stream",
     "text": [
      "\n",
      "----\n",
      "The accuracy has changed by -0.0070\n",
      "Change in edges:  47.0\n"
     ]
    }
   ],
   "source": [
    "data = dataset.get_data()[0]\n",
    "modified_graph = data\n",
    "c = 0.25\n",
    "\n",
    "init_edges = len(modified_graph.edge_index[1])\n",
    "\n",
    "G, x, y, train_mask, test_mask = convert_to_networkx(modified_graph)\n",
    "\n",
    "# class_and_added = {label: [] for label in set(g.ndata[\"label\"].tolist())}\n",
    "\n",
    "# note this implementation is likely inefficient\n",
    "for i in range(0, num_classes):\n",
    "    for j in range(0, len(homophilic_set[i])):\n",
    "        edges = G.out_edges(homophilic_set[i][j])\n",
    "\n",
    "        same_class_edges = set()\n",
    "        for e in edges:\n",
    "            if (e[1] in homophilic_set[i]):\n",
    "                same_class_edges.add(e[1])\n",
    "\n",
    "        for k in range(0, math.floor(len(same_class_edges) * c)):\n",
    "            b_node = homophilic_set[i][j]\n",
    "            c_node = random.choice(homophilic_set[i])\n",
    "\n",
    "            ctr = 0\n",
    "            while (b_node == c_node or G.has_edge(b_node, c_node)) and ctr <= math.floor(len(same_class_edges) * c):\n",
    "                c_node = random.choice(homophilic_set[i])\n",
    "                ctr += 1\n",
    "\n",
    "            add_edge(G, b_node, c_node, undirected=True)\n",
    "            # class_and_added[i].append(len(same_class_edges))\n",
    "\n",
    "modified_graph = convert_to_pyg(G, x, y, train_mask, test_mask)\n",
    "final_edges = len(modified_graph.edge_index[1])\n",
    "\n",
    "output_accuracy_change(ground_truth, test_model(model, modified_graph))\n",
    "number_added_edges(init_edges, final_edges, is_undirected=True)\n",
    "\n",
    "# print(class_and_added)"
   ]
  },
  {
   "cell_type": "code",
   "execution_count": 31,
   "metadata": {},
   "outputs": [
    {
     "name": "stdout",
     "output_type": "stream",
     "text": [
      "\n",
      "----\n",
      "The accuracy has changed by -0.0080\n",
      "Change in edges:  55.0\n"
     ]
    }
   ],
   "source": [
    "data = dataset.get_data()[0]\n",
    "modified_graph = data\n",
    "c = 0.3\n",
    "\n",
    "init_edges = len(modified_graph.edge_index[1])\n",
    "\n",
    "G, x, y, train_mask, test_mask = convert_to_networkx(modified_graph)\n",
    "\n",
    "# class_and_added = {label: [] for label in set(g.ndata[\"label\"].tolist())}\n",
    "\n",
    "# note this implementation is likely inefficient\n",
    "for i in range(0, num_classes):\n",
    "    for j in range(0, len(homophilic_set[i])):\n",
    "        edges = G.out_edges(homophilic_set[i][j])\n",
    "\n",
    "        same_class_edges = set()\n",
    "        for e in edges:\n",
    "            if (e[1] in homophilic_set[i]):\n",
    "                same_class_edges.add(e[1])\n",
    "\n",
    "        for k in range(0, math.floor(len(same_class_edges) * c)):\n",
    "            b_node = homophilic_set[i][j]\n",
    "            c_node = random.choice(homophilic_set[i])\n",
    "\n",
    "            ctr = 0\n",
    "            while (b_node == c_node or G.has_edge(b_node, c_node)) and ctr <= math.floor(len(same_class_edges) * c):\n",
    "                c_node = random.choice(homophilic_set[i])\n",
    "                ctr += 1\n",
    "\n",
    "            add_edge(G, b_node, c_node, undirected=True)\n",
    "            # class_and_added[i].append(len(same_class_edges))\n",
    "\n",
    "modified_graph = convert_to_pyg(G, x, y, train_mask, test_mask)\n",
    "final_edges = len(modified_graph.edge_index[1])\n",
    "\n",
    "output_accuracy_change(ground_truth, test_model(model, modified_graph))\n",
    "number_added_edges(init_edges, final_edges, is_undirected=True)\n",
    "\n",
    "# print(class_and_added)"
   ]
  },
  {
   "cell_type": "code",
   "execution_count": 32,
   "metadata": {},
   "outputs": [
    {
     "name": "stdout",
     "output_type": "stream",
     "text": [
      "\n",
      "----\n",
      "The accuracy has changed by -0.0160\n",
      "Change in edges:  122.0\n"
     ]
    }
   ],
   "source": [
    "data = dataset.get_data()[0]\n",
    "modified_graph = data\n",
    "c = 1/3\n",
    "\n",
    "init_edges = len(modified_graph.edge_index[1])\n",
    "\n",
    "G, x, y, train_mask, test_mask = convert_to_networkx(modified_graph)\n",
    "\n",
    "# class_and_added = {label: [] for label in set(g.ndata[\"label\"].tolist())}\n",
    "\n",
    "# note this implementation is likely inefficient\n",
    "for i in range(0, num_classes):\n",
    "    for j in range(0, len(homophilic_set[i])):\n",
    "        edges = G.out_edges(homophilic_set[i][j])\n",
    "\n",
    "        same_class_edges = set()\n",
    "        for e in edges:\n",
    "            if (e[1] in homophilic_set[i]):\n",
    "                same_class_edges.add(e[1])\n",
    "\n",
    "        for k in range(0, math.floor(len(same_class_edges) * c)):\n",
    "            b_node = homophilic_set[i][j]\n",
    "            c_node = random.choice(homophilic_set[i])\n",
    "\n",
    "            ctr = 0\n",
    "            while (b_node == c_node or G.has_edge(b_node, c_node)) and ctr <= math.floor(len(same_class_edges) * c):\n",
    "                c_node = random.choice(homophilic_set[i])\n",
    "                ctr += 1\n",
    "\n",
    "            add_edge(G, b_node, c_node, undirected=True)\n",
    "            # class_and_added[i].append(len(same_class_edges))\n",
    "\n",
    "modified_graph = convert_to_pyg(G, x, y, train_mask, test_mask)\n",
    "final_edges = len(modified_graph.edge_index[1])\n",
    "\n",
    "output_accuracy_change(ground_truth, test_model(model, modified_graph))\n",
    "number_added_edges(init_edges, final_edges, is_undirected=True)\n",
    "\n",
    "# print(class_and_added)"
   ]
  },
  {
   "cell_type": "code",
   "execution_count": 33,
   "metadata": {},
   "outputs": [
    {
     "name": "stdout",
     "output_type": "stream",
     "text": [
      "\n",
      "----\n",
      "The accuracy has changed by -0.0240\n",
      "Change in edges:  133.0\n"
     ]
    }
   ],
   "source": [
    "data = dataset.get_data()[0]\n",
    "modified_graph = data\n",
    "c = 0.35\n",
    "\n",
    "init_edges = len(modified_graph.edge_index[1])\n",
    "\n",
    "G, x, y, train_mask, test_mask = convert_to_networkx(modified_graph)\n",
    "\n",
    "# class_and_added = {label: [] for label in set(g.ndata[\"label\"].tolist())}\n",
    "\n",
    "# note this implementation is likely inefficient\n",
    "for i in range(0, num_classes):\n",
    "    for j in range(0, len(homophilic_set[i])):\n",
    "        edges = G.out_edges(homophilic_set[i][j])\n",
    "\n",
    "        same_class_edges = set()\n",
    "        for e in edges:\n",
    "            if (e[1] in homophilic_set[i]):\n",
    "                same_class_edges.add(e[1])\n",
    "\n",
    "        for k in range(0, math.floor(len(same_class_edges) * c)):\n",
    "            b_node = homophilic_set[i][j]\n",
    "            c_node = random.choice(homophilic_set[i])\n",
    "\n",
    "            ctr = 0\n",
    "            while (b_node == c_node or G.has_edge(b_node, c_node)) and ctr <= math.floor(len(same_class_edges) * c):\n",
    "                c_node = random.choice(homophilic_set[i])\n",
    "                ctr += 1\n",
    "\n",
    "            add_edge(G, b_node, c_node, undirected=True)\n",
    "            # class_and_added[i].append(len(same_class_edges))\n",
    "\n",
    "modified_graph = convert_to_pyg(G, x, y, train_mask, test_mask)\n",
    "final_edges = len(modified_graph.edge_index[1])\n",
    "\n",
    "output_accuracy_change(ground_truth, test_model(model, modified_graph))\n",
    "number_added_edges(init_edges, final_edges, is_undirected=True)\n",
    "\n",
    "# print(class_and_added)"
   ]
  },
  {
   "cell_type": "code",
   "execution_count": 34,
   "metadata": {},
   "outputs": [
    {
     "name": "stdout",
     "output_type": "stream",
     "text": [
      "\n",
      "----\n",
      "The accuracy has changed by -0.0480\n",
      "Change in edges:  443.0\n"
     ]
    }
   ],
   "source": [
    "data = dataset.get_data()[0]\n",
    "modified_graph = data\n",
    "c = 0.5\n",
    "\n",
    "init_edges = len(modified_graph.edge_index[1])\n",
    "\n",
    "G, x, y, train_mask, test_mask = convert_to_networkx(modified_graph)\n",
    "\n",
    "# class_and_added = {label: [] for label in set(g.ndata[\"label\"].tolist())}\n",
    "\n",
    "# note this implementation is likely inefficient\n",
    "for i in range(0, num_classes):\n",
    "    for j in range(0, len(homophilic_set[i])):\n",
    "        edges = G.out_edges(homophilic_set[i][j])\n",
    "\n",
    "        same_class_edges = set()\n",
    "        for e in edges:\n",
    "            if (e[1] in homophilic_set[i]):\n",
    "                same_class_edges.add(e[1])\n",
    "\n",
    "        for k in range(0, math.floor(len(same_class_edges) * c)):\n",
    "            b_node = homophilic_set[i][j]\n",
    "            c_node = random.choice(homophilic_set[i])\n",
    "\n",
    "            ctr = 0\n",
    "            while (b_node == c_node or G.has_edge(b_node, c_node)) and ctr <= math.floor(len(same_class_edges) * c):\n",
    "                c_node = random.choice(homophilic_set[i])\n",
    "                ctr += 1\n",
    "\n",
    "            add_edge(G, b_node, c_node, undirected=True)\n",
    "            # class_and_added[i].append(len(same_class_edges))\n",
    "\n",
    "modified_graph = convert_to_pyg(G, x, y, train_mask, test_mask)\n",
    "final_edges = len(modified_graph.edge_index[1])\n",
    "\n",
    "output_accuracy_change(ground_truth, test_model(model, modified_graph))\n",
    "number_added_edges(init_edges, final_edges, is_undirected=True)\n",
    "\n",
    "# print(class_and_added)"
   ]
  }
 ],
 "metadata": {
  "kernelspec": {
   "display_name": "Python 3 (ipykernel)",
   "language": "python",
   "name": "python3"
  },
  "language_info": {
   "codemirror_mode": {
    "name": "ipython",
    "version": 3
   },
   "file_extension": ".py",
   "mimetype": "text/x-python",
   "name": "python",
   "nbconvert_exporter": "python",
   "pygments_lexer": "ipython3",
   "version": "3.11.5"
  }
 },
 "nbformat": 4,
 "nbformat_minor": 4
}
