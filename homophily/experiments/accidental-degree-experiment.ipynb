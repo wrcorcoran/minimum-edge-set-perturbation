{
 "cells": [
  {
   "cell_type": "code",
   "execution_count": 2,
   "metadata": {},
   "outputs": [
    {
     "name": "stderr",
     "output_type": "stream",
     "text": [
      "/home/niyati/miniconda3/lib/python3.11/site-packages/torch_geometric/typing.py:54: UserWarning: An issue occurred while importing 'pyg-lib'. Disabling its usage. Stacktrace: /lib64/libm.so.6: version `GLIBC_2.27' not found (required by /home/niyati/miniconda3/lib/python3.11/site-packages/libpyg.so)\n",
      "  warnings.warn(f\"An issue occurred while importing 'pyg-lib'. \"\n",
      "/home/niyati/miniconda3/lib/python3.11/site-packages/torch_geometric/typing.py:110: UserWarning: An issue occurred while importing 'torch-sparse'. Disabling its usage. Stacktrace: /lib64/libm.so.6: version `GLIBC_2.27' not found (required by /home/niyati/miniconda3/lib/python3.11/site-packages/libpyg.so)\n",
      "  warnings.warn(f\"An issue occurred while importing 'torch-sparse'. \"\n"
     ]
    },
    {
     "name": "stdout",
     "output_type": "stream",
     "text": [
      "Imports finished.\n"
     ]
    }
   ],
   "source": [
    "# these warnings are fine. you can ignore them.\n",
    "from util import *\n",
    "import numpy as np\n",
    "import random, math\n",
    "\n",
    "device = torch.device('cuda' if torch.cuda.is_available() else 'cpu')\n",
    "print(\"Imports finished.\")"
   ]
  },
  {
   "cell_type": "markdown",
   "metadata": {},
   "source": [
    "# Setting Up Dataset/Model/Ground Truth"
   ]
  },
  {
   "cell_type": "code",
   "execution_count": 3,
   "metadata": {},
   "outputs": [
    {
     "name": "stdout",
     "output_type": "stream",
     "text": [
      "0.749\n"
     ]
    }
   ],
   "source": [
    "dataset = Dataset(root='/tmp/Cora', name='Cora', device=device)\n",
    "data, in_feats, h_feats, num_classes = dataset.get_data()\n",
    "\n",
    "model = get_model(in_feats, h_feats, num_classes)\n",
    "\n",
    "ground_truth = get_ground_truth(model, data)\n",
    "print(ground_truth)"
   ]
  },
  {
   "cell_type": "markdown",
   "metadata": {},
   "source": [
    "# Experiments\n",
    "**Note:** The ground truth here is $0.749$\n",
    "\n",
    "**Note:** This experiment was done before the development of new functions. The experiments will not work until transferred over to current function."
   ]
  },
  {
   "cell_type": "markdown",
   "metadata": {},
   "source": [
    "#### Accidental Degree Experiment"
   ]
  },
  {
   "cell_type": "code",
   "execution_count": 4,
   "metadata": {},
   "outputs": [
    {
     "ename": "NameError",
     "evalue": "name 'reset_dataset' is not defined",
     "output_type": "error",
     "traceback": [
      "\u001b[0;31m---------------------------------------------------------------------------\u001b[0m",
      "\u001b[0;31mNameError\u001b[0m                                 Traceback (most recent call last)",
      "Cell \u001b[0;32mIn[4], line 3\u001b[0m\n\u001b[1;32m      1\u001b[0m \u001b[38;5;28;01mfrom\u001b[39;00m \u001b[38;5;21;01mcollections\u001b[39;00m \u001b[38;5;28;01mimport\u001b[39;00m defaultdict\n\u001b[0;32m----> 3\u001b[0m \u001b[43mreset_dataset\u001b[49m()\n\u001b[1;32m      4\u001b[0m modified_graph \u001b[38;5;241m=\u001b[39m cora_dataset[\u001b[38;5;241m0\u001b[39m]\n\u001b[1;32m      5\u001b[0m init_edges \u001b[38;5;241m=\u001b[39m modified_graph\u001b[38;5;241m.\u001b[39mnumber_of_edges()\n",
      "\u001b[0;31mNameError\u001b[0m: name 'reset_dataset' is not defined"
     ]
    }
   ],
   "source": [
    "from collections import defaultdict\n",
    "\n",
    "reset_dataset()\n",
    "modified_graph = cora_dataset[0]\n",
    "init_edges = modified_graph.number_of_edges()\n",
    "\n",
    "edge_set = defaultdict(list)\n",
    "c = 0.1\n",
    "\n",
    "for i in range(0, num_classes):\n",
    "    for j in range(0, len(homophilic_set[i])):\n",
    "        edge_set[modified_graph.out_degrees(j)].append(j)\n",
    "\n",
    "\n",
    "# note this implementation is likely inefficient\n",
    "for key in edge_set:\n",
    "    if key == 0:\n",
    "        continue\n",
    "    else:\n",
    "        for elem in edge_set[key]:\n",
    "            n = min(int(math.floor(key * c)), len(edge_set[key]))\n",
    "                \n",
    "            for i in range(0, n):\n",
    "                b_node = elem\n",
    "                c_node = random.choice(edge_set[key])\n",
    "\n",
    "                if b_node == c_node or modified_graph.has_edges_between(b_node, c_node):\n",
    "                    continue\n",
    "\n",
    "                modified_graph.add_edges(b_node, c_node)\n",
    "                modified_graph.add_edges(c_node, b_node)\n",
    "            \n",
    "\n",
    "changed_acc(ground_truth, test(modified_graph))\n",
    "print(\"Change in edges: \", (modified_graph.number_of_edges() - init_edges)/2)"
   ]
  },
  {
   "cell_type": "code",
   "execution_count": 45,
   "metadata": {},
   "outputs": [
    {
     "name": "stdout",
     "output_type": "stream",
     "text": [
      "  NumNodes: 2708\n",
      "  NumEdges: 10556\n",
      "  NumFeats: 1433\n",
      "  NumClasses: 7\n",
      "  NumTrainingSamples: 140\n",
      "  NumValidationSamples: 500\n",
      "  NumTestSamples: 1000\n",
      "Done loading data from cached files.\n",
      "\n",
      "----\n",
      "The accuracy has not changed.\n",
      "Change in edges:  41.0\n"
     ]
    }
   ],
   "source": [
    "from collections import defaultdict\n",
    "\n",
    "reset_dataset()\n",
    "modified_graph = cora_dataset[0]\n",
    "init_edges = modified_graph.number_of_edges()\n",
    "class_and_added = {label: [] for label in set(g.ndata[\"label\"].tolist())}\n",
    "\n",
    "edge_set = defaultdict(list)\n",
    "c = 0.15\n",
    "\n",
    "for i in range(0, num_classes):\n",
    "    for j in range(0, len(homophilic_set[i])):\n",
    "        edge_set[modified_graph.out_degrees(j)].append(j)\n",
    "\n",
    "\n",
    "# note this implementation is likely inefficient\n",
    "for key in edge_set:\n",
    "    if key == 0:\n",
    "        continue\n",
    "    else:\n",
    "        for elem in edge_set[key]:\n",
    "            n = min(int(math.floor(key * c)), len(edge_set[key]))\n",
    "                \n",
    "            for i in range(0, n):\n",
    "                b_node = elem\n",
    "                c_node = random.choice(edge_set[key])\n",
    "\n",
    "                if b_node == c_node or modified_graph.has_edges_between(b_node, c_node):\n",
    "                    continue\n",
    "\n",
    "                modified_graph.add_edges(b_node, c_node)\n",
    "                modified_graph.add_edges(c_node, b_node)\n",
    "            \n",
    "\n",
    "changed_acc(ground_truth, test(modified_graph))\n",
    "print(\"Change in edges: \", (modified_graph.number_of_edges() - init_edges)/2)"
   ]
  },
  {
   "cell_type": "code",
   "execution_count": 46,
   "metadata": {},
   "outputs": [
    {
     "name": "stdout",
     "output_type": "stream",
     "text": [
      "  NumNodes: 2708\n",
      "  NumEdges: 10556\n",
      "  NumFeats: 1433\n",
      "  NumClasses: 7\n",
      "  NumTrainingSamples: 140\n",
      "  NumValidationSamples: 500\n",
      "  NumTestSamples: 1000\n",
      "Done loading data from cached files.\n",
      "\n",
      "----\n",
      "The accuracy has not changed.\n",
      "Change in edges:  186.0\n"
     ]
    }
   ],
   "source": [
    "from collections import defaultdict\n",
    "\n",
    "reset_dataset()\n",
    "modified_graph = cora_dataset[0]\n",
    "init_edges = modified_graph.number_of_edges()\n",
    "class_and_added = {label: [] for label in set(g.ndata[\"label\"].tolist())}\n",
    "\n",
    "edge_set = defaultdict(list)\n",
    "c = 0.2\n",
    "\n",
    "for i in range(0, num_classes):\n",
    "    for j in range(0, len(homophilic_set[i])):\n",
    "        edge_set[modified_graph.out_degrees(j)].append(j)\n",
    "\n",
    "\n",
    "# note this implementation is likely inefficient\n",
    "for key in edge_set:\n",
    "    if key == 0:\n",
    "        continue\n",
    "    else:\n",
    "        for elem in edge_set[key]:\n",
    "            n = min(int(math.floor(key * c)), len(edge_set[key]))\n",
    "                \n",
    "            for i in range(0, n):\n",
    "                b_node = elem\n",
    "                c_node = random.choice(edge_set[key])\n",
    "\n",
    "                if b_node == c_node or modified_graph.has_edges_between(b_node, c_node):\n",
    "                    continue\n",
    "\n",
    "                modified_graph.add_edges(b_node, c_node)\n",
    "                modified_graph.add_edges(c_node, b_node)\n",
    "            \n",
    "\n",
    "changed_acc(ground_truth, test(modified_graph))\n",
    "print(\"Change in edges: \", (modified_graph.number_of_edges() - init_edges)/2)"
   ]
  },
  {
   "cell_type": "code",
   "execution_count": 47,
   "metadata": {},
   "outputs": [
    {
     "name": "stdout",
     "output_type": "stream",
     "text": [
      "  NumNodes: 2708\n",
      "  NumEdges: 10556\n",
      "  NumFeats: 1433\n",
      "  NumClasses: 7\n",
      "  NumTrainingSamples: 140\n",
      "  NumValidationSamples: 500\n",
      "  NumTestSamples: 1000\n",
      "Done loading data from cached files.\n",
      "\n",
      "----\n",
      "The accuracy has changed by 0.0020\n",
      "Change in edges:  309.0\n"
     ]
    }
   ],
   "source": [
    "from collections import defaultdict\n",
    "\n",
    "reset_dataset()\n",
    "modified_graph = cora_dataset[0]\n",
    "init_edges = modified_graph.number_of_edges()\n",
    "class_and_added = {label: [] for label in set(g.ndata[\"label\"].tolist())}\n",
    "\n",
    "edge_set = defaultdict(list)\n",
    "c = 0.25\n",
    "\n",
    "for i in range(0, num_classes):\n",
    "    for j in range(0, len(homophilic_set[i])):\n",
    "        edge_set[modified_graph.out_degrees(j)].append(j)\n",
    "\n",
    "\n",
    "# note this implementation is likely inefficient\n",
    "for key in edge_set:\n",
    "    if key == 0:\n",
    "        continue\n",
    "    else:\n",
    "        for elem in edge_set[key]:\n",
    "            n = min(int(math.floor(key * c)), len(edge_set[key]))\n",
    "                \n",
    "            for i in range(0, n):\n",
    "                b_node = elem\n",
    "                c_node = random.choice(edge_set[key])\n",
    "\n",
    "                if b_node == c_node or modified_graph.has_edges_between(b_node, c_node):\n",
    "                    continue\n",
    "\n",
    "                modified_graph.add_edges(b_node, c_node)\n",
    "                modified_graph.add_edges(c_node, b_node)\n",
    "            \n",
    "\n",
    "changed_acc(ground_truth, test(modified_graph))\n",
    "print(\"Change in edges: \", (modified_graph.number_of_edges() - init_edges)/2)"
   ]
  },
  {
   "cell_type": "code",
   "execution_count": 48,
   "metadata": {},
   "outputs": [
    {
     "name": "stdout",
     "output_type": "stream",
     "text": [
      "  NumNodes: 2708\n",
      "  NumEdges: 10556\n",
      "  NumFeats: 1433\n",
      "  NumClasses: 7\n",
      "  NumTrainingSamples: 140\n",
      "  NumValidationSamples: 500\n",
      "  NumTestSamples: 1000\n",
      "Done loading data from cached files.\n",
      "\n",
      "----\n",
      "The accuracy has changed by 0.0020\n",
      "Change in edges:  315.0\n"
     ]
    }
   ],
   "source": [
    "from collections import defaultdict\n",
    "\n",
    "reset_dataset()\n",
    "modified_graph = cora_dataset[0]\n",
    "init_edges = modified_graph.number_of_edges()\n",
    "class_and_added = {label: [] for label in set(g.ndata[\"label\"].tolist())}\n",
    "\n",
    "edge_set = defaultdict(list)\n",
    "c = 0.3\n",
    "\n",
    "for i in range(0, num_classes):\n",
    "    for j in range(0, len(homophilic_set[i])):\n",
    "        edge_set[modified_graph.out_degrees(j)].append(j)\n",
    "\n",
    "\n",
    "# note this implementation is likely inefficient\n",
    "for key in edge_set:\n",
    "    if key == 0:\n",
    "        continue\n",
    "    else:\n",
    "        for elem in edge_set[key]:\n",
    "            n = min(int(math.floor(key * c)), len(edge_set[key]))\n",
    "                \n",
    "            for i in range(0, n):\n",
    "                b_node = elem\n",
    "                c_node = random.choice(edge_set[key])\n",
    "\n",
    "                if b_node == c_node or modified_graph.has_edges_between(b_node, c_node):\n",
    "                    continue\n",
    "\n",
    "                modified_graph.add_edges(b_node, c_node)\n",
    "                modified_graph.add_edges(c_node, b_node)\n",
    "            \n",
    "\n",
    "changed_acc(ground_truth, test(modified_graph))\n",
    "print(\"Change in edges: \", (modified_graph.number_of_edges() - init_edges)/2)"
   ]
  },
  {
   "cell_type": "code",
   "execution_count": 49,
   "metadata": {},
   "outputs": [
    {
     "name": "stdout",
     "output_type": "stream",
     "text": [
      "  NumNodes: 2708\n",
      "  NumEdges: 10556\n",
      "  NumFeats: 1433\n",
      "  NumClasses: 7\n",
      "  NumTrainingSamples: 140\n",
      "  NumValidationSamples: 500\n",
      "  NumTestSamples: 1000\n",
      "Done loading data from cached files.\n",
      "\n",
      "----\n",
      "The accuracy has changed by 0.0050\n",
      "Change in edges:  1605.0\n"
     ]
    }
   ],
   "source": [
    "from collections import defaultdict\n",
    "\n",
    "reset_dataset()\n",
    "modified_graph = cora_dataset[0]\n",
    "init_edges = modified_graph.number_of_edges()\n",
    "class_and_added = {label: [] for label in set(g.ndata[\"label\"].tolist())}\n",
    "\n",
    "edge_set = defaultdict(list)\n",
    "c = 1\n",
    "\n",
    "for i in range(0, num_classes):\n",
    "    for j in range(0, len(homophilic_set[i])):\n",
    "        edge_set[modified_graph.out_degrees(j)].append(j)\n",
    "\n",
    "\n",
    "# note this implementation is likely inefficient\n",
    "for key in edge_set:\n",
    "    if key == 0:\n",
    "        continue\n",
    "    else:\n",
    "        for elem in edge_set[key]:\n",
    "            n = min(int(math.floor(key * c)), len(edge_set[key]))\n",
    "                \n",
    "            for i in range(0, n):\n",
    "                b_node = elem\n",
    "                c_node = random.choice(edge_set[key])\n",
    "\n",
    "                if b_node == c_node or modified_graph.has_edges_between(b_node, c_node):\n",
    "                    continue\n",
    "\n",
    "                modified_graph.add_edges(b_node, c_node)\n",
    "                modified_graph.add_edges(c_node, b_node)\n",
    "            \n",
    "\n",
    "changed_acc(ground_truth, test(modified_graph))\n",
    "print(\"Change in edges: \", (modified_graph.number_of_edges() - init_edges)/2)"
   ]
  }
 ],
 "metadata": {
  "kernelspec": {
   "display_name": "Python 3 (ipykernel)",
   "language": "python",
   "name": "python3"
  },
  "language_info": {
   "codemirror_mode": {
    "name": "ipython",
    "version": 3
   },
   "file_extension": ".py",
   "mimetype": "text/x-python",
   "name": "python",
   "nbconvert_exporter": "python",
   "pygments_lexer": "ipython3",
   "version": "3.11.5"
  }
 },
 "nbformat": 4,
 "nbformat_minor": 4
}
