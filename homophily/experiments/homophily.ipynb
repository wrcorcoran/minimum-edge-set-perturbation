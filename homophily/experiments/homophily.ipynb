{
 "cells": [
  {
   "cell_type": "code",
   "execution_count": 2,
   "metadata": {},
   "outputs": [
    {
     "name": "stdout",
     "output_type": "stream",
     "text": [
      "Intel MKL WARNING: Support of Intel(R) Streaming SIMD Extensions 4.2 (Intel(R) SSE4.2) enabled only processors has been deprecated. Intel oneAPI Math Kernel Library 2025.0 will require Intel(R) Advanced Vector Extensions (Intel(R) AVX) instructions.\n",
      "Intel MKL WARNING: Support of Intel(R) Streaming SIMD Extensions 4.2 (Intel(R) SSE4.2) enabled only processors has been deprecated. Intel oneAPI Math Kernel Library 2025.0 will require Intel(R) Advanced Vector Extensions (Intel(R) AVX) instructions.\n"
     ]
    }
   ],
   "source": [
    "import dgl\n",
    "import torch\n",
    "import torch.nn as nn\n",
    "import torch.nn.functional as F\n",
    "import numpy as np\n",
    "from dgl.data import CoraGraphDataset\n",
    "import random, math\n",
    "\n",
    "device = torch.device('cuda' if torch.cuda.is_available() else 'cpu')"
   ]
  },
  {
   "cell_type": "markdown",
   "metadata": {},
   "source": [
    "# Setting Up DGL Dataset"
   ]
  },
  {
   "cell_type": "code",
   "execution_count": 3,
   "metadata": {},
   "outputs": [
    {
     "name": "stdout",
     "output_type": "stream",
     "text": [
      "  NumNodes: 2708\n",
      "  NumEdges: 10556\n",
      "  NumFeats: 1433\n",
      "  NumClasses: 7\n",
      "  NumTrainingSamples: 140\n",
      "  NumValidationSamples: 500\n",
      "  NumTestSamples: 1000\n",
      "Done loading data from cached files.\n"
     ]
    }
   ],
   "source": [
    "g = None\n",
    "in_feats = None\n",
    "h_feats = None\n",
    "num_classes = None\n",
    "cora_dataset = None\n",
    "features = None\n",
    "\n",
    "def reset_dataset():\n",
    "    global g, in_feats, h_feats, num_classes, cora_dataset, features\n",
    "\n",
    "    cora_dataset = CoraGraphDataset()\n",
    "    g = cora_dataset[0]\n",
    "    features = g.ndata['feat']\n",
    "\n",
    "    in_feats = features.shape[1]\n",
    "    h_feats = 64\n",
    "    num_classes = cora_dataset.num_classes\n",
    "\n",
    "reset_dataset()"
   ]
  },
  {
   "cell_type": "markdown",
   "metadata": {},
   "source": [
    "# Setting Up Saved Model + Ground Truth"
   ]
  },
  {
   "cell_type": "code",
   "execution_count": 4,
   "metadata": {},
   "outputs": [],
   "source": [
    "class GCN(nn.Module):\n",
    "    def __init__(self, g, in_feats, h_feats, num_classes):\n",
    "        super(GCN, self).__init__()\n",
    "        self.conv1 = dgl.nn.GraphConv(in_feats, h_feats)\n",
    "        self.conv2 = dgl.nn.GraphConv(h_feats, num_classes)\n",
    "\n",
    "    def forward(self, g, in_feat):\n",
    "        h = self.conv1(g, in_feat)\n",
    "        h = F.relu(h)\n",
    "        h = self.conv2(g, h)\n",
    "        return h"
   ]
  },
  {
   "cell_type": "code",
   "execution_count": 5,
   "metadata": {},
   "outputs": [
    {
     "data": {
      "text/plain": [
       "GCN(\n",
       "  (conv1): GraphConv(in=1433, out=64, normalization=both, activation=None)\n",
       "  (conv2): GraphConv(in=64, out=7, normalization=both, activation=None)\n",
       ")"
      ]
     },
     "execution_count": 5,
     "metadata": {},
     "output_type": "execute_result"
    }
   ],
   "source": [
    "model = GCN(g, in_feats, h_feats, num_classes)\n",
    "model.load_state_dict(torch.load(\"../model/cora_gt.pt\"))\n",
    "model.eval()"
   ]
  },
  {
   "cell_type": "code",
   "execution_count": 6,
   "metadata": {},
   "outputs": [],
   "source": [
    "def test(data):\n",
    "    model.eval()\n",
    "    out = model(data, features)\n",
    "    pred = out.argmax(dim=1)\n",
    "\n",
    "    acc = (pred[data.ndata[\"test_mask\"]] == data.ndata[\"label\"][data.ndata[\"test_mask\"]]).sum().item() / data.ndata[\"test_mask\"].sum().item()\n",
    "    return acc"
   ]
  },
  {
   "cell_type": "code",
   "execution_count": 7,
   "metadata": {},
   "outputs": [],
   "source": [
    "def changed_acc(gt, cv):\n",
    "    print(\"\\n----\")\n",
    "    if gt != cv:\n",
    "        print(f'The accuracy has changed by {gt - cv:.4f}')\n",
    "    else:\n",
    "        print(\"The accuracy has not changed.\")"
   ]
  },
  {
   "cell_type": "code",
   "execution_count": 8,
   "metadata": {},
   "outputs": [
    {
     "data": {
      "text/plain": [
       "0.769"
      ]
     },
     "execution_count": 8,
     "metadata": {},
     "output_type": "execute_result"
    }
   ],
   "source": [
    "ground_truth = test(cora_dataset[0])\n",
    "ground_truth"
   ]
  },
  {
   "cell_type": "markdown",
   "metadata": {},
   "source": [
    "# Experiments\n",
    "**Note:** The ground truth here is $0.769$"
   ]
  },
  {
   "cell_type": "code",
   "execution_count": 9,
   "metadata": {},
   "outputs": [
    {
     "name": "stdout",
     "output_type": "stream",
     "text": [
      "This is the dictionary containing each class and its respective elements:\n",
      "\t {0: [1713, 1801, 1803, 1838, 1839, 1841, 1843, 1847, 1848, 1850, 1892, 1905, 1909, 1910, 1912, 1913, 1920, 1921, 1922, 1923, 1925, 1926, 1927, 1930, 1981, 1983, 2010, 2016, 2018, 2019, 2021, 2025, 2047, 2049, 2051, 2052, 2053, 2054, 2055, 2056, 2057, 2059, 2068, 2069, 2070, 2072, 2073, 2074, 2089, 2097, 2098, 2099, 2116, 2131, 2133, 2136, 2137, 2155, 2156, 2171, 2172, 2179, 2180, 2181, 2182, 2183, 2186, 2189, 2193, 2194, 2195, 2196, 2197, 2198, 2199, 2200, 2201, 2202, 2203, 2211, 2219, 2231, 2232, 2233, 2234, 2246, 2266, 2267, 2268, 2274, 2277, 2280, 2291, 2293, 2295, 2311, 2312, 2321, 2330, 2332, 2333, 2342, 2347, 2356, 2360, 2364, 2384, 2404, 2408, 2418, 2419, 2424, 2449, 2453, 2469, 2470, 2472, 2499, 2502, 2511, 2533, 2544, 2562, 2575, 2576, 2578, 2580, 2639, 2653, 2702], 1: [1735, 1767, 1768, 1769, 1770, 1771, 1772, 1773, 1775, 1776, 1777, 1778, 1779, 1780, 1781, 1782, 1783, 1784, 1786, 1787, 1788, 1789, 1790, 1791, 1797, 1798, 1800, 1805, 1834, 1854, 1856, 1991, 2026, 2045, 2046, 2048, 2079, 2080, 2081, 2082, 2084, 2085, 2086, 2087, 2088, 2090, 2092, 2093, 2094, 2095, 2096, 2106, 2107, 2143, 2144, 2145, 2168, 2170, 2208, 2210, 2218, 2251, 2252, 2254, 2255, 2257, 2300, 2318, 2319, 2322, 2324, 2325, 2326, 2327, 2328, 2329, 2331, 2377, 2402, 2429, 2478, 2487, 2488, 2504, 2505, 2532, 2545, 2584, 2591, 2598, 2620], 2: [1709, 1710, 1711, 1712, 1714, 1715, 1716, 1717, 1718, 1719, 1720, 1721, 1722, 1723, 1724, 1725, 1726, 1727, 1729, 1730, 1731, 1732, 1733, 1734, 1736, 1737, 1738, 1739, 1740, 1742, 1743, 1744, 1745, 1746, 1747, 1748, 1749, 1750, 1751, 1752, 1753, 1754, 1755, 1756, 1757, 1758, 1759, 1760, 1761, 1762, 1763, 1765, 1766, 1804, 1830, 1831, 1832, 1833, 1886, 1887, 1888, 1895, 1989, 1990, 2071, 2083, 2113, 2167, 2169, 2175, 2220, 2221, 2279, 2307, 2313, 2334, 2359, 2365, 2366, 2372, 2389, 2390, 2391, 2392, 2409, 2415, 2421, 2433, 2439, 2440, 2441, 2442, 2443, 2444, 2445, 2446, 2447, 2448, 2450, 2451, 2452, 2460, 2466, 2476, 2492, 2503, 2507, 2512, 2514, 2515, 2522, 2523, 2525, 2530, 2546, 2554, 2556, 2557, 2558, 2560, 2561, 2581, 2585, 2596, 2597, 2612, 2614, 2616, 2618, 2619, 2627, 2641, 2642, 2643, 2651, 2652, 2654, 2655, 2656, 2657, 2658, 2685, 2689, 2691], 3: [1708, 1728, 1741, 1792, 1799, 1802, 1806, 1807, 1808, 1809, 1810, 1811, 1812, 1813, 1814, 1815, 1816, 1817, 1818, 1819, 1820, 1821, 1822, 1823, 1837, 1844, 1846, 1852, 1853, 1855, 1857, 1858, 1859, 1860, 1861, 1862, 1863, 1864, 1865, 1866, 1867, 1868, 1869, 1870, 1871, 1872, 1873, 1874, 1875, 1876, 1877, 1893, 1894, 1924, 1928, 1929, 1931, 1932, 1933, 1934, 1935, 1936, 1937, 1938, 1939, 1940, 1941, 1942, 1943, 1944, 1945, 1946, 1947, 1948, 1949, 1950, 1951, 1952, 1957, 1977, 1986, 1987, 1988, 1992, 1993, 1994, 1995, 1996, 1997, 1999, 2000, 2003, 2004, 2005, 2006, 2007, 2008, 2009, 2011, 2012, 2014, 2027, 2028, 2032, 2033, 2035, 2036, 2037, 2038, 2039, 2041, 2042, 2044, 2063, 2064, 2065, 2066, 2067, 2075, 2076, 2077, 2078, 2091, 2104, 2108, 2114, 2115, 2117, 2118, 2119, 2124, 2125, 2126, 2128, 2129, 2138, 2139, 2140, 2141, 2142, 2146, 2147, 2148, 2149, 2152, 2162, 2163, 2176, 2177, 2187, 2191, 2204, 2205, 2206, 2207, 2212, 2213, 2214, 2215, 2216, 2229, 2230, 2241, 2242, 2243, 2244, 2245, 2247, 2253, 2258, 2276, 2282, 2283, 2296, 2301, 2302, 2303, 2304, 2305, 2308, 2309, 2310, 2314, 2315, 2316, 2317, 2320, 2338, 2339, 2340, 2343, 2344, 2345, 2346, 2348, 2349, 2358, 2361, 2367, 2368, 2369, 2370, 2371, 2373, 2381, 2398, 2403, 2405, 2406, 2410, 2411, 2412, 2413, 2414, 2420, 2425, 2426, 2427, 2430, 2437, 2438, 2459, 2462, 2471, 2475, 2477, 2482, 2484, 2486, 2489, 2493, 2494, 2495, 2500, 2501, 2508, 2509, 2513, 2519, 2521, 2529, 2531, 2534, 2535, 2539, 2540, 2541, 2542, 2543, 2550, 2551, 2552, 2555, 2559, 2565, 2566, 2567, 2568, 2569, 2570, 2571, 2572, 2573, 2574, 2577, 2579, 2582, 2588, 2589, 2590, 2593, 2595, 2599, 2600, 2601, 2602, 2603, 2605, 2606, 2607, 2609, 2610, 2611, 2613, 2624, 2625, 2626, 2629, 2630, 2632, 2633, 2634, 2635, 2636, 2640, 2650, 2659, 2663, 2664, 2667, 2668, 2669, 2676, 2686, 2687, 2688, 2692, 2693, 2696, 2697, 2698, 2699, 2700, 2701, 2703, 2704, 2705, 2706, 2707], 4: [1774, 1785, 1793, 1794, 1795, 1796, 1889, 1890, 1891, 1906, 1907, 1908, 1964, 1965, 1966, 1967, 1968, 1969, 1970, 1971, 1984, 1985, 2001, 2002, 2020, 2034, 2040, 2043, 2120, 2121, 2122, 2123, 2127, 2130, 2153, 2222, 2223, 2224, 2225, 2226, 2236, 2237, 2238, 2239, 2240, 2248, 2249, 2250, 2259, 2260, 2261, 2262, 2263, 2264, 2265, 2289, 2290, 2292, 2294, 2297, 2298, 2299, 2306, 2323, 2335, 2336, 2337, 2341, 2350, 2351, 2352, 2353, 2354, 2355, 2357, 2362, 2376, 2378, 2379, 2380, 2382, 2383, 2385, 2386, 2387, 2393, 2399, 2400, 2401, 2416, 2417, 2431, 2432, 2434, 2435, 2436, 2463, 2464, 2465, 2473, 2474, 2483, 2490, 2496, 2498, 2518, 2520, 2524, 2526, 2536, 2538, 2547, 2548, 2549, 2563, 2564, 2583, 2587, 2594, 2615, 2617, 2623, 2631, 2637, 2645, 2646, 2647, 2648, 2660, 2661, 2662, 2665, 2666, 2670, 2671, 2672, 2673, 2674, 2675, 2677, 2678, 2679, 2680, 2681, 2682, 2683, 2684, 2694, 2695], 5: [1764, 1824, 1825, 1826, 1827, 1828, 1829, 1840, 1842, 1845, 1878, 1879, 1880, 1881, 1882, 1883, 1884, 1885, 1896, 1897, 1898, 1899, 1901, 1902, 1903, 1904, 1911, 1953, 1954, 1955, 1956, 1958, 1959, 1960, 1961, 1962, 1963, 1974, 1978, 1979, 1980, 1982, 1998, 2017, 2023, 2024, 2029, 2031, 2058, 2060, 2061, 2062, 2100, 2101, 2102, 2103, 2105, 2111, 2150, 2166, 2178, 2184, 2185, 2188, 2227, 2235, 2256, 2269, 2270, 2271, 2272, 2273, 2275, 2281, 2284, 2285, 2286, 2287, 2288, 2363, 2374, 2375, 2388, 2407, 2428, 2456, 2481, 2485, 2491, 2497, 2506, 2510, 2516, 2517, 2527, 2528, 2537, 2553, 2586, 2592, 2621, 2628, 2644], 6: [1835, 1836, 1849, 1851, 1900, 1914, 1915, 1916, 1917, 1918, 1919, 1972, 1973, 1975, 1976, 2013, 2015, 2022, 2030, 2050, 2109, 2110, 2112, 2132, 2134, 2135, 2151, 2154, 2157, 2158, 2159, 2160, 2161, 2164, 2165, 2173, 2174, 2190, 2192, 2209, 2217, 2228, 2278, 2394, 2395, 2396, 2397, 2422, 2423, 2454, 2455, 2457, 2458, 2461, 2467, 2468, 2479, 2480, 2604, 2608, 2622, 2638, 2649, 2690]}\n"
     ]
    }
   ],
   "source": [
    "homophilic_set = {label: [] for label in set(g.ndata[\"label\"].tolist())}\n",
    "\n",
    "test_indices = torch.nonzero(g.ndata[\"test_mask\"], as_tuple=False).squeeze()\n",
    "for i in test_indices:\n",
    "    homophilic_set[g.ndata[\"label\"][i].item()].append(i.item())\n",
    "\n",
    "print(\"This is the dictionary containing each class and its respective elements:\\n\\t\", homophilic_set)"
   ]
  },
  {
   "cell_type": "markdown",
   "metadata": {},
   "source": [
    "### Connect with same class nodes which do not already have edges\n",
    "Take the first element in a class and add edges to all OTHER elements in that class if they do not currently exist."
   ]
  },
  {
   "cell_type": "code",
   "execution_count": 10,
   "metadata": {},
   "outputs": [
    {
     "name": "stdout",
     "output_type": "stream",
     "text": [
      "  NumNodes: 2708\n",
      "  NumEdges: 10556\n",
      "  NumFeats: 1433\n",
      "  NumClasses: 7\n",
      "  NumTrainingSamples: 140\n",
      "  NumValidationSamples: 500\n",
      "  NumTestSamples: 1000\n",
      "Done loading data from cached files.\n",
      "\n",
      "----\n",
      "The accuracy has changed by 0.0020\n"
     ]
    }
   ],
   "source": [
    "reset_dataset()\n",
    "modified_graph = cora_dataset[0]\n",
    "\n",
    "for i in range(0, num_classes):\n",
    "    for j in range(1, len(homophilic_set[i])):\n",
    "        if not modified_graph.has_edges_between([homophilic_set[i][0]], j):\n",
    "            modified_graph.add_edges(j, homophilic_set[i][0])\n",
    "            modified_graph.add_edges(homophilic_set[i][0], j)\n",
    "\n",
    "changed_acc(ground_truth, test(modified_graph))"
   ]
  },
  {
   "cell_type": "markdown",
   "metadata": {},
   "source": [
    "### Connect same class nodes with one other random nodes (which is is not currently a neighbor to)"
   ]
  },
  {
   "cell_type": "code",
   "execution_count": 15,
   "metadata": {},
   "outputs": [
    {
     "name": "stdout",
     "output_type": "stream",
     "text": [
      "  NumNodes: 2708\n",
      "  NumEdges: 10556\n",
      "  NumFeats: 1433\n",
      "  NumClasses: 7\n",
      "  NumTrainingSamples: 140\n",
      "  NumValidationSamples: 500\n",
      "  NumTestSamples: 1000\n",
      "Done loading data from cached files.\n",
      "\n",
      "----\n",
      "The accuracy has changed by 0.0020\n"
     ]
    }
   ],
   "source": [
    "reset_dataset()\n",
    "modified_graph = cora_dataset[0]\n",
    "\n",
    "for i in range(0, num_classes):\n",
    "    r_node = random.choice(homophilic_set[i])\n",
    "    n_node = random.choice(homophilic_set[i])\n",
    "\n",
    "    while r_node == n_node or modified_graph.has_edges_between(n_node, r_node):\n",
    "        n_node = random.choice(homophilic_set[i])\n",
    "\n",
    "    modified_graph.add_edges(r_node, n_node)\n",
    "    modified_graph.add_edges(n_node, r_node)\n",
    "\n",
    "changed_acc(ground_truth, test(modified_graph))"
   ]
  },
  {
   "cell_type": "markdown",
   "metadata": {},
   "source": [
    "### Create a dense graph between all nodes with the same class"
   ]
  },
  {
   "cell_type": "code",
   "execution_count": 34,
   "metadata": {},
   "outputs": [
    {
     "name": "stdout",
     "output_type": "stream",
     "text": [
      "  NumNodes: 2708\n",
      "  NumEdges: 10556\n",
      "  NumFeats: 1433\n",
      "  NumClasses: 7\n",
      "  NumTrainingSamples: 140\n",
      "  NumValidationSamples: 500\n",
      "  NumTestSamples: 1000\n",
      "Done loading data from cached files.\n",
      "\n",
      "----\n",
      "The accuracy has changed by -0.2310\n",
      "Change in edges:  91256.0\n"
     ]
    }
   ],
   "source": [
    "reset_dataset()\n",
    "modified_graph = cora_dataset[0]\n",
    "init_edges = modified_graph.number_of_edges()\n",
    "\n",
    "for i in range(0, num_classes):\n",
    "    for j in range(0, len(homophilic_set[i])):\n",
    "        for k in range(j + 1, len(homophilic_set[i])):\n",
    "            j_node = homophilic_set[i][j]\n",
    "            k_node = homophilic_set[i][k]\n",
    "            if j_node == k_node or modified_graph.has_edges_between(j_node, k_node):\n",
    "                continue\n",
    "\n",
    "            modified_graph.add_edges(j_node, k_node)\n",
    "            modified_graph.add_edges(k_node, j_node)\n",
    "            # print(\"added: \", j_node, \" - \", k_node)\n",
    "\n",
    "changed_acc(ground_truth, test(modified_graph))\n",
    "print(\"Change in edges: \", (modified_graph.number_of_edges() - init_edges)/2)"
   ]
  },
  {
   "cell_type": "markdown",
   "metadata": {},
   "source": [
    "#### Increase each node's number homophilic edges by a certain threshold?\n",
    "Let's start with $\\lfloor 0.1 \\times h_e \\rfloor$, where $h_e$ is the number of homophilic edges.\n",
    "In the current implementation, the nodes which are seen last likely see more nodes added."
   ]
  },
  {
   "cell_type": "code",
   "execution_count": 46,
   "metadata": {},
   "outputs": [
    {
     "name": "stdout",
     "output_type": "stream",
     "text": [
      "  NumNodes: 2708\n",
      "  NumEdges: 10556\n",
      "  NumFeats: 1433\n",
      "  NumClasses: 7\n",
      "  NumTrainingSamples: 140\n",
      "  NumValidationSamples: 500\n",
      "  NumTestSamples: 1000\n",
      "Done loading data from cached files.\n",
      "\n",
      "----\n",
      "The accuracy has not changed.\n",
      "Change in edges:  4.0\n",
      "{0: [10], 1: [], 2: [], 3: [16, 23, 23], 4: [], 5: [], 6: []}\n"
     ]
    }
   ],
   "source": [
    "reset_dataset()\n",
    "modified_graph = cora_dataset[0]\n",
    "init_edges = modified_graph.number_of_edges()\n",
    "class_and_added = {label: [] for label in set(g.ndata[\"label\"].tolist())}\n",
    "\n",
    "# note this implementation is likely inefficient\n",
    "for i in range(0, num_classes):\n",
    "    for j in range(0, len(homophilic_set[i])):\n",
    "        edges = modified_graph.out_edges(homophilic_set[i][j])\n",
    "\n",
    "        same_class_edges = set()\n",
    "        for e in edges[1]:\n",
    "            if (e.item() in homophilic_set[i]):\n",
    "                same_class_edges.add(e.item())\n",
    "\n",
    "        for k in range(0, math.floor(len(same_class_edges) * 0.1)):\n",
    "            b_node = homophilic_set[i][j]\n",
    "            c_node = random.choice(homophilic_set[i])\n",
    "\n",
    "            while b_node == c_node or modified_graph.has_edges_between(b_node, c_node):\n",
    "                c_node = random.choice(homophilic_set[i])\n",
    "\n",
    "            modified_graph.add_edges(b_node, c_node)\n",
    "            modified_graph.add_edges(c_node, b_node)\n",
    "            class_and_added[i].append(len(same_class_edges))\n",
    "\n",
    "changed_acc(ground_truth, test(modified_graph))\n",
    "print(\"Change in edges: \", (modified_graph.number_of_edges() - init_edges)/2)\n",
    "print(class_and_added)"
   ]
  },
  {
   "cell_type": "code",
   "execution_count": 47,
   "metadata": {},
   "outputs": [
    {
     "name": "stdout",
     "output_type": "stream",
     "text": [
      "  NumNodes: 2708\n",
      "  NumEdges: 10556\n",
      "  NumFeats: 1433\n",
      "  NumClasses: 7\n",
      "  NumTrainingSamples: 140\n",
      "  NumValidationSamples: 500\n",
      "  NumTestSamples: 1000\n",
      "Done loading data from cached files.\n",
      "\n",
      "----\n",
      "The accuracy has changed by 0.0010\n",
      "Change in edges:  11.0\n",
      "{0: [10], 1: [9], 2: [7, 7, 7], 3: [16, 16, 23, 23, 23], 4: [7], 5: [], 6: []}\n"
     ]
    }
   ],
   "source": [
    "reset_dataset()\n",
    "modified_graph = cora_dataset[0]\n",
    "init_edges = modified_graph.number_of_edges()\n",
    "class_and_added = {label: [] for label in set(g.ndata[\"label\"].tolist())}\n",
    "\n",
    "# note this implementation is likely inefficient\n",
    "for i in range(0, num_classes):\n",
    "    for j in range(0, len(homophilic_set[i])):\n",
    "        edges = modified_graph.out_edges(homophilic_set[i][j])\n",
    "\n",
    "        same_class_edges = set()\n",
    "        for e in edges[1]:\n",
    "            if (e.item() in homophilic_set[i]):\n",
    "                same_class_edges.add(e.item())\n",
    "\n",
    "        for k in range(0, math.floor(len(same_class_edges) * 0.15)):\n",
    "            b_node = homophilic_set[i][j]\n",
    "            c_node = random.choice(homophilic_set[i])\n",
    "\n",
    "            while b_node == c_node or modified_graph.has_edges_between(b_node, c_node):\n",
    "                c_node = random.choice(homophilic_set[i])\n",
    "\n",
    "            modified_graph.add_edges(b_node, c_node)\n",
    "            modified_graph.add_edges(c_node, b_node)\n",
    "            class_and_added[i].append(len(same_class_edges))\n",
    "\n",
    "changed_acc(ground_truth, test(modified_graph))\n",
    "print(\"Change in edges: \", (modified_graph.number_of_edges() - init_edges)/2)\n",
    "print(class_and_added)"
   ]
  },
  {
   "cell_type": "code",
   "execution_count": 48,
   "metadata": {},
   "outputs": [
    {
     "name": "stdout",
     "output_type": "stream",
     "text": [
      "  NumNodes: 2708\n",
      "  NumEdges: 10556\n",
      "  NumFeats: 1433\n",
      "  NumClasses: 7\n",
      "  NumTrainingSamples: 140\n",
      "  NumValidationSamples: 500\n",
      "  NumTestSamples: 1000\n",
      "Done loading data from cached files.\n",
      "\n",
      "----\n",
      "The accuracy has changed by -0.0040\n",
      "Change in edges:  28.0\n",
      "{0: [10, 10], 1: [9], 2: [7, 5, 6, 6, 7, 5, 7], 3: [16, 16, 16, 5, 23, 23, 23, 23, 5, 5, 5], 4: [7, 5, 6, 5], 5: [5, 5], 6: [6]}\n"
     ]
    }
   ],
   "source": [
    "reset_dataset()\n",
    "modified_graph = cora_dataset[0]\n",
    "init_edges = modified_graph.number_of_edges()\n",
    "class_and_added = {label: [] for label in set(g.ndata[\"label\"].tolist())}\n",
    "\n",
    "# note this implementation is likely inefficient\n",
    "for i in range(0, num_classes):\n",
    "    for j in range(0, len(homophilic_set[i])):\n",
    "        edges = modified_graph.out_edges(homophilic_set[i][j])\n",
    "\n",
    "        same_class_edges = set()\n",
    "        for e in edges[1]:\n",
    "            if (e.item() in homophilic_set[i]):\n",
    "                same_class_edges.add(e.item())\n",
    "\n",
    "        for k in range(0, math.floor(len(same_class_edges) * 0.20)):\n",
    "            b_node = homophilic_set[i][j]\n",
    "            c_node = random.choice(homophilic_set[i])\n",
    "\n",
    "            while b_node == c_node or modified_graph.has_edges_between(b_node, c_node):\n",
    "                c_node = random.choice(homophilic_set[i])\n",
    "\n",
    "            modified_graph.add_edges(b_node, c_node)\n",
    "            modified_graph.add_edges(c_node, b_node)\n",
    "            class_and_added[i].append(len(same_class_edges))\n",
    "\n",
    "changed_acc(ground_truth, test(modified_graph))\n",
    "print(\"Change in edges: \", (modified_graph.number_of_edges() - init_edges)/2)\n",
    "print(class_and_added)"
   ]
  },
  {
   "cell_type": "code",
   "execution_count": 49,
   "metadata": {},
   "outputs": [
    {
     "name": "stdout",
     "output_type": "stream",
     "text": [
      "  NumNodes: 2708\n",
      "  NumEdges: 10556\n",
      "  NumFeats: 1433\n",
      "  NumClasses: 7\n",
      "  NumTrainingSamples: 140\n",
      "  NumValidationSamples: 500\n",
      "  NumTestSamples: 1000\n",
      "Done loading data from cached files.\n",
      "\n",
      "----\n",
      "The accuracy has changed by -0.0030\n",
      "Change in edges:  47.0\n",
      "{0: [4, 4, 10, 10], 1: [9, 9, 4], 2: [7, 5, 6, 6, 7, 5, 7, 4], 3: [16, 16, 16, 16, 5, 4, 23, 23, 23, 23, 23, 5, 5, 5, 4], 4: [4, 4, 7, 5, 6, 4, 4, 4, 4, 5], 5: [4, 5, 5], 6: [6, 4, 4, 4]}\n"
     ]
    }
   ],
   "source": [
    "reset_dataset()\n",
    "modified_graph = cora_dataset[0]\n",
    "init_edges = modified_graph.number_of_edges()\n",
    "class_and_added = {label: [] for label in set(g.ndata[\"label\"].tolist())}\n",
    "\n",
    "# note this implementation is likely inefficient\n",
    "for i in range(0, num_classes):\n",
    "    for j in range(0, len(homophilic_set[i])):\n",
    "        edges = modified_graph.out_edges(homophilic_set[i][j])\n",
    "\n",
    "        same_class_edges = set()\n",
    "        for e in edges[1]:\n",
    "            if (e.item() in homophilic_set[i]):\n",
    "                same_class_edges.add(e.item())\n",
    "\n",
    "        for k in range(0, math.floor(len(same_class_edges) * 0.25)):\n",
    "            b_node = homophilic_set[i][j]\n",
    "            c_node = random.choice(homophilic_set[i])\n",
    "\n",
    "            while b_node == c_node or modified_graph.has_edges_between(b_node, c_node):\n",
    "                c_node = random.choice(homophilic_set[i])\n",
    "\n",
    "            modified_graph.add_edges(b_node, c_node)\n",
    "            modified_graph.add_edges(c_node, b_node)\n",
    "            class_and_added[i].append(len(same_class_edges))\n",
    "\n",
    "changed_acc(ground_truth, test(modified_graph))\n",
    "print(\"Change in edges: \", (modified_graph.number_of_edges() - init_edges)/2)\n",
    "print(class_and_added)"
   ]
  },
  {
   "cell_type": "code",
   "execution_count": 50,
   "metadata": {},
   "outputs": [
    {
     "name": "stdout",
     "output_type": "stream",
     "text": [
      "  NumNodes: 2708\n",
      "  NumEdges: 10556\n",
      "  NumFeats: 1433\n",
      "  NumClasses: 7\n",
      "  NumTrainingSamples: 140\n",
      "  NumValidationSamples: 500\n",
      "  NumTestSamples: 1000\n",
      "Done loading data from cached files.\n",
      "\n",
      "----\n",
      "The accuracy has changed by -0.0070\n",
      "Change in edges:  55.0\n",
      "{0: [4, 4, 10, 10, 10], 1: [9, 9, 4], 2: [7, 7, 5, 6, 6, 7, 7, 5, 7, 7, 4], 3: [16, 16, 16, 16, 5, 4, 23, 23, 23, 23, 23, 23, 5, 5, 5, 4], 4: [4, 4, 7, 7, 5, 6, 4, 4, 4, 4, 5], 5: [4, 5, 5, 4, 4], 6: [6, 4, 4, 4]}\n"
     ]
    }
   ],
   "source": [
    "reset_dataset()\n",
    "modified_graph = cora_dataset[0]\n",
    "init_edges = modified_graph.number_of_edges()\n",
    "class_and_added = {label: [] for label in set(g.ndata[\"label\"].tolist())}\n",
    "\n",
    "# note this implementation is likely inefficient\n",
    "for i in range(0, num_classes):\n",
    "    for j in range(0, len(homophilic_set[i])):\n",
    "        edges = modified_graph.out_edges(homophilic_set[i][j])\n",
    "\n",
    "        same_class_edges = set()\n",
    "        for e in edges[1]:\n",
    "            if (e.item() in homophilic_set[i]):\n",
    "                same_class_edges.add(e.item())\n",
    "\n",
    "        for k in range(0, math.floor(len(same_class_edges) * 0.30)):\n",
    "            b_node = homophilic_set[i][j]\n",
    "            c_node = random.choice(homophilic_set[i])\n",
    "\n",
    "            while b_node == c_node or modified_graph.has_edges_between(b_node, c_node):\n",
    "                c_node = random.choice(homophilic_set[i])\n",
    "\n",
    "            modified_graph.add_edges(b_node, c_node)\n",
    "            modified_graph.add_edges(c_node, b_node)\n",
    "            class_and_added[i].append(len(same_class_edges))\n",
    "\n",
    "changed_acc(ground_truth, test(modified_graph))\n",
    "print(\"Change in edges: \", (modified_graph.number_of_edges() - init_edges)/2)\n",
    "print(class_and_added)"
   ]
  },
  {
   "cell_type": "code",
   "execution_count": 54,
   "metadata": {},
   "outputs": [
    {
     "name": "stdout",
     "output_type": "stream",
     "text": [
      "  NumNodes: 2708\n",
      "  NumEdges: 10556\n",
      "  NumFeats: 1433\n",
      "  NumClasses: 7\n",
      "  NumTrainingSamples: 140\n",
      "  NumValidationSamples: 500\n",
      "  NumTestSamples: 1000\n",
      "Done loading data from cached files.\n",
      "\n",
      "----\n",
      "The accuracy has changed by -0.0100\n",
      "Change in edges:  128.0\n",
      "{0: [4, 3, 3, 4, 10, 10, 10, 3, 3, 3], 1: [3, 3, 9, 9, 9, 3, 3, 4, 3, 3], 2: [3, 3, 7, 7, 3, 3, 5, 6, 6, 6, 6, 3, 7, 7, 3, 3, 3, 3, 3, 3, 5, 8, 8, 4, 3, 3, 3, 3], 3: [16, 16, 16, 16, 16, 3, 3, 3, 3, 5, 3, 4, 23, 23, 23, 23, 23, 23, 23, 3, 3, 5, 3, 3, 3, 5, 3, 3, 3, 3, 5, 3, 3, 4, 3, 3, 3, 3, 3], 4: [4, 3, 4, 3, 3, 7, 7, 5, 3, 3, 3, 6, 6, 4, 3, 4, 4, 3, 3, 4, 3, 5], 5: [3, 3, 3, 3, 4, 5, 5, 3, 3, 3, 3, 3], 6: [6, 6, 4, 4, 4, 4, 4]}\n"
     ]
    }
   ],
   "source": [
    "reset_dataset()\n",
    "modified_graph = cora_dataset[0]\n",
    "init_edges = modified_graph.number_of_edges()\n",
    "class_and_added = {label: [] for label in set(g.ndata[\"label\"].tolist())}\n",
    "\n",
    "# note this implementation is likely inefficient\n",
    "for i in range(0, num_classes):\n",
    "    for j in range(0, len(homophilic_set[i])):\n",
    "        edges = modified_graph.out_edges(homophilic_set[i][j])\n",
    "\n",
    "        same_class_edges = set()\n",
    "        for e in edges[1]:\n",
    "            if (e.item() in homophilic_set[i]):\n",
    "                same_class_edges.add(e.item())\n",
    "\n",
    "        for k in range(0, math.floor(len(same_class_edges) * 1/3)):\n",
    "            b_node = homophilic_set[i][j]\n",
    "            c_node = random.choice(homophilic_set[i])\n",
    "\n",
    "            while b_node == c_node or modified_graph.has_edges_between(b_node, c_node):\n",
    "                c_node = random.choice(homophilic_set[i])\n",
    "\n",
    "            modified_graph.add_edges(b_node, c_node)\n",
    "            modified_graph.add_edges(c_node, b_node)\n",
    "            class_and_added[i].append(len(same_class_edges))\n",
    "\n",
    "changed_acc(ground_truth, test(modified_graph))\n",
    "print(\"Change in edges: \", (modified_graph.number_of_edges() - init_edges)/2)\n",
    "print(class_and_added)"
   ]
  },
  {
   "cell_type": "code",
   "execution_count": 51,
   "metadata": {},
   "outputs": [
    {
     "name": "stdout",
     "output_type": "stream",
     "text": [
      "  NumNodes: 2708\n",
      "  NumEdges: 10556\n",
      "  NumFeats: 1433\n",
      "  NumClasses: 7\n",
      "  NumTrainingSamples: 140\n",
      "  NumValidationSamples: 500\n",
      "  NumTestSamples: 1000\n",
      "Done loading data from cached files.\n",
      "\n",
      "----\n",
      "The accuracy has changed by -0.0250\n",
      "Change in edges:  138.0\n",
      "{0: [4, 3, 3, 4, 10, 10, 10, 3, 3, 3, 3, 3], 1: [3, 3, 9, 9, 9, 3, 3, 4, 3, 3, 3], 2: [3, 3, 7, 7, 3, 3, 3, 5, 6, 6, 6, 6, 3, 7, 7, 3, 4, 3, 3, 5, 7, 7, 3, 3, 4, 3, 3, 3], 3: [16, 16, 16, 16, 16, 3, 3, 3, 3, 5, 3, 4, 23, 23, 23, 23, 23, 23, 23, 23, 3, 4, 5, 3, 4, 5, 4, 3, 3, 3, 5, 3, 4, 3, 3, 3, 3, 3, 3], 4: [4, 3, 4, 3, 3, 3, 7, 7, 5, 3, 3, 3, 6, 6, 4, 3, 4, 3, 4, 3, 4, 3, 3, 4, 5, 3], 5: [3, 3, 4, 3, 4, 5, 5, 3, 3, 3, 3, 3, 3, 3], 6: [6, 6, 3, 3, 4, 4, 4, 3]}\n"
     ]
    }
   ],
   "source": [
    "reset_dataset()\n",
    "modified_graph = cora_dataset[0]\n",
    "init_edges = modified_graph.number_of_edges()\n",
    "class_and_added = {label: [] for label in set(g.ndata[\"label\"].tolist())}\n",
    "\n",
    "# note this implementation is likely inefficient\n",
    "for i in range(0, num_classes):\n",
    "    for j in range(0, len(homophilic_set[i])):\n",
    "        edges = modified_graph.out_edges(homophilic_set[i][j])\n",
    "\n",
    "        same_class_edges = set()\n",
    "        for e in edges[1]:\n",
    "            if (e.item() in homophilic_set[i]):\n",
    "                same_class_edges.add(e.item())\n",
    "\n",
    "        for k in range(0, math.floor(len(same_class_edges) * 0.35)):\n",
    "            b_node = homophilic_set[i][j]\n",
    "            c_node = random.choice(homophilic_set[i])\n",
    "\n",
    "            while b_node == c_node or modified_graph.has_edges_between(b_node, c_node):\n",
    "                c_node = random.choice(homophilic_set[i])\n",
    "\n",
    "            modified_graph.add_edges(b_node, c_node)\n",
    "            modified_graph.add_edges(c_node, b_node)\n",
    "            class_and_added[i].append(len(same_class_edges))\n",
    "\n",
    "changed_acc(ground_truth, test(modified_graph))\n",
    "print(\"Change in edges: \", (modified_graph.number_of_edges() - init_edges)/2)\n",
    "print(class_and_added)"
   ]
  },
  {
   "cell_type": "code",
   "execution_count": 53,
   "metadata": {},
   "outputs": [
    {
     "name": "stdout",
     "output_type": "stream",
     "text": [
      "  NumNodes: 2708\n",
      "  NumEdges: 10556\n",
      "  NumFeats: 1433\n",
      "  NumClasses: 7\n",
      "  NumTrainingSamples: 140\n",
      "  NumValidationSamples: 500\n",
      "  NumTestSamples: 1000\n",
      "Done loading data from cached files.\n",
      "\n",
      "----\n",
      "The accuracy has changed by -0.0460\n",
      "Change in edges:  419.0\n",
      "{0: [2, 2, 2, 2, 4, 4, 2, 2, 3, 2, 3, 3, 2, 2, 4, 4, 10, 10, 10, 10, 10, 2, 2, 2, 2, 4, 4, 3, 2, 2, 2, 3, 3, 3, 2, 2, 2, 2, 2, 2, 2, 2], 1: [2, 2, 2, 3, 3, 2, 3, 2, 2, 2, 2, 2, 9, 9, 9, 9, 3, 2, 2, 3, 3, 2, 2, 4, 4, 2, 2, 2, 2, 2, 2, 3, 2, 2, 2, 2], 2: [3, 3, 2, 2, 2, 7, 7, 7, 3, 2, 3, 3, 5, 5, 6, 6, 6, 6, 6, 6, 2, 2, 2, 3, 3, 3, 2, 2, 2, 7, 7, 7, 2, 2, 2, 2, 2, 3, 3, 3, 2, 2, 2, 2, 2, 3, 3, 3, 2, 2, 3, 2, 5, 5, 2, 8, 8, 8, 8, 2, 2, 3, 2, 2, 2, 2, 5, 5, 2, 3, 3, 2, 3], 3: [2, 2, 2, 16, 16, 16, 16, 16, 16, 16, 16, 2, 3, 2, 2, 3, 2, 2, 2, 2, 2, 2, 2, 2, 2, 2, 2, 4, 4, 3, 3, 2, 2, 5, 5, 3, 4, 4, 2, 23, 23, 23, 23, 23, 23, 23, 23, 23, 23, 23, 3, 4, 4, 2, 2, 2, 2, 2, 2, 2, 5, 5, 3, 2, 3, 3, 5, 5, 3, 3, 2, 2, 2, 2, 2, 4, 4, 2, 3, 4, 4, 2, 2, 2, 3, 3, 3, 2, 2, 3, 2, 2, 5, 5, 2, 2, 2, 2, 5, 5, 3, 2, 4, 4, 2, 2, 2, 2, 2, 2, 2, 2, 4, 4, 3, 2, 3, 2, 4, 4, 2, 2, 2, 2, 2, 2, 2, 2, 3, 2, 2, 3, 2, 2, 2, 2], 4: [2, 4, 4, 3, 4, 4, 2, 3, 2, 3, 2, 2, 2, 7, 7, 7, 2, 5, 5, 3, 2, 2, 3, 3, 2, 6, 6, 6, 2, 4, 4, 2, 2, 2, 5, 5, 2, 2, 6, 6, 6, 2, 2, 3, 2, 3, 3, 2, 2, 2, 2, 3, 2, 2, 3, 3, 2, 4, 4, 2, 2, 2, 2, 5, 5, 2, 2, 4, 4, 3, 2, 2, 2], 5: [2, 3, 2, 2, 3, 2, 2, 2, 3, 3, 4, 4, 5, 5, 2, 5, 5, 3, 3, 3, 3, 3, 2, 2, 2, 2, 2, 2, 2, 2, 2, 2, 2, 2, 2, 2], 6: [2, 6, 6, 6, 2, 2, 2, 3, 2, 2, 5, 5, 2, 4, 4, 2, 2, 2, 5, 5, 3, 3, 2]}\n"
     ]
    }
   ],
   "source": [
    "reset_dataset()\n",
    "modified_graph = cora_dataset[0]\n",
    "init_edges = modified_graph.number_of_edges()\n",
    "class_and_added = {label: [] for label in set(g.ndata[\"label\"].tolist())}\n",
    "\n",
    "# note this implementation is likely inefficient\n",
    "for i in range(0, num_classes):\n",
    "    for j in range(0, len(homophilic_set[i])):\n",
    "        edges = modified_graph.out_edges(homophilic_set[i][j])\n",
    "\n",
    "        same_class_edges = set()\n",
    "        for e in edges[1]:\n",
    "            if (e.item() in homophilic_set[i]):\n",
    "                same_class_edges.add(e.item())\n",
    "\n",
    "        for k in range(0, math.floor(len(same_class_edges) * 0.5)):\n",
    "            b_node = homophilic_set[i][j]\n",
    "            c_node = random.choice(homophilic_set[i])\n",
    "\n",
    "            while b_node == c_node or modified_graph.has_edges_between(b_node, c_node):\n",
    "                c_node = random.choice(homophilic_set[i])\n",
    "\n",
    "            modified_graph.add_edges(b_node, c_node)\n",
    "            modified_graph.add_edges(c_node, b_node)\n",
    "            class_and_added[i].append(len(same_class_edges))\n",
    "\n",
    "changed_acc(ground_truth, test(modified_graph))\n",
    "print(\"Change in edges: \", (modified_graph.number_of_edges() - init_edges)/2)\n",
    "print(class_and_added)"
   ]
  },
  {
   "cell_type": "markdown",
   "metadata": {},
   "source": [
    "#### Accidental Degree Experiment"
   ]
  },
  {
   "cell_type": "code",
   "execution_count": 44,
   "metadata": {},
   "outputs": [
    {
     "name": "stdout",
     "output_type": "stream",
     "text": [
      "  NumNodes: 2708\n",
      "  NumEdges: 10556\n",
      "  NumFeats: 1433\n",
      "  NumClasses: 7\n",
      "  NumTrainingSamples: 140\n",
      "  NumValidationSamples: 500\n",
      "  NumTestSamples: 1000\n",
      "Done loading data from cached files.\n",
      "\n",
      "----\n",
      "The accuracy has not changed.\n",
      "Change in edges:  11.0\n"
     ]
    }
   ],
   "source": [
    "from collections import defaultdict\n",
    "\n",
    "reset_dataset()\n",
    "modified_graph = cora_dataset[0]\n",
    "init_edges = modified_graph.number_of_edges()\n",
    "\n",
    "edge_set = defaultdict(list)\n",
    "c = 0.1\n",
    "\n",
    "for i in range(0, num_classes):\n",
    "    for j in range(0, len(homophilic_set[i])):\n",
    "        edge_set[modified_graph.out_degrees(j)].append(j)\n",
    "\n",
    "\n",
    "# note this implementation is likely inefficient\n",
    "for key in edge_set:\n",
    "    if key == 0:\n",
    "        continue\n",
    "    else:\n",
    "        for elem in edge_set[key]:\n",
    "            n = min(int(math.floor(key * c)), len(edge_set[key]))\n",
    "                \n",
    "            for i in range(0, n):\n",
    "                b_node = elem\n",
    "                c_node = random.choice(edge_set[key])\n",
    "\n",
    "                if b_node == c_node or modified_graph.has_edges_between(b_node, c_node):\n",
    "                    continue\n",
    "\n",
    "                modified_graph.add_edges(b_node, c_node)\n",
    "                modified_graph.add_edges(c_node, b_node)\n",
    "            \n",
    "\n",
    "changed_acc(ground_truth, test(modified_graph))\n",
    "print(\"Change in edges: \", (modified_graph.number_of_edges() - init_edges)/2)"
   ]
  },
  {
   "cell_type": "code",
   "execution_count": 45,
   "metadata": {},
   "outputs": [
    {
     "name": "stdout",
     "output_type": "stream",
     "text": [
      "  NumNodes: 2708\n",
      "  NumEdges: 10556\n",
      "  NumFeats: 1433\n",
      "  NumClasses: 7\n",
      "  NumTrainingSamples: 140\n",
      "  NumValidationSamples: 500\n",
      "  NumTestSamples: 1000\n",
      "Done loading data from cached files.\n",
      "\n",
      "----\n",
      "The accuracy has not changed.\n",
      "Change in edges:  41.0\n"
     ]
    }
   ],
   "source": [
    "from collections import defaultdict\n",
    "\n",
    "reset_dataset()\n",
    "modified_graph = cora_dataset[0]\n",
    "init_edges = modified_graph.number_of_edges()\n",
    "class_and_added = {label: [] for label in set(g.ndata[\"label\"].tolist())}\n",
    "\n",
    "edge_set = defaultdict(list)\n",
    "c = 0.15\n",
    "\n",
    "for i in range(0, num_classes):\n",
    "    for j in range(0, len(homophilic_set[i])):\n",
    "        edge_set[modified_graph.out_degrees(j)].append(j)\n",
    "\n",
    "\n",
    "# note this implementation is likely inefficient\n",
    "for key in edge_set:\n",
    "    if key == 0:\n",
    "        continue\n",
    "    else:\n",
    "        for elem in edge_set[key]:\n",
    "            n = min(int(math.floor(key * c)), len(edge_set[key]))\n",
    "                \n",
    "            for i in range(0, n):\n",
    "                b_node = elem\n",
    "                c_node = random.choice(edge_set[key])\n",
    "\n",
    "                if b_node == c_node or modified_graph.has_edges_between(b_node, c_node):\n",
    "                    continue\n",
    "\n",
    "                modified_graph.add_edges(b_node, c_node)\n",
    "                modified_graph.add_edges(c_node, b_node)\n",
    "            \n",
    "\n",
    "changed_acc(ground_truth, test(modified_graph))\n",
    "print(\"Change in edges: \", (modified_graph.number_of_edges() - init_edges)/2)"
   ]
  },
  {
   "cell_type": "code",
   "execution_count": 46,
   "metadata": {},
   "outputs": [
    {
     "name": "stdout",
     "output_type": "stream",
     "text": [
      "  NumNodes: 2708\n",
      "  NumEdges: 10556\n",
      "  NumFeats: 1433\n",
      "  NumClasses: 7\n",
      "  NumTrainingSamples: 140\n",
      "  NumValidationSamples: 500\n",
      "  NumTestSamples: 1000\n",
      "Done loading data from cached files.\n",
      "\n",
      "----\n",
      "The accuracy has not changed.\n",
      "Change in edges:  186.0\n"
     ]
    }
   ],
   "source": [
    "from collections import defaultdict\n",
    "\n",
    "reset_dataset()\n",
    "modified_graph = cora_dataset[0]\n",
    "init_edges = modified_graph.number_of_edges()\n",
    "class_and_added = {label: [] for label in set(g.ndata[\"label\"].tolist())}\n",
    "\n",
    "edge_set = defaultdict(list)\n",
    "c = 0.2\n",
    "\n",
    "for i in range(0, num_classes):\n",
    "    for j in range(0, len(homophilic_set[i])):\n",
    "        edge_set[modified_graph.out_degrees(j)].append(j)\n",
    "\n",
    "\n",
    "# note this implementation is likely inefficient\n",
    "for key in edge_set:\n",
    "    if key == 0:\n",
    "        continue\n",
    "    else:\n",
    "        for elem in edge_set[key]:\n",
    "            n = min(int(math.floor(key * c)), len(edge_set[key]))\n",
    "                \n",
    "            for i in range(0, n):\n",
    "                b_node = elem\n",
    "                c_node = random.choice(edge_set[key])\n",
    "\n",
    "                if b_node == c_node or modified_graph.has_edges_between(b_node, c_node):\n",
    "                    continue\n",
    "\n",
    "                modified_graph.add_edges(b_node, c_node)\n",
    "                modified_graph.add_edges(c_node, b_node)\n",
    "            \n",
    "\n",
    "changed_acc(ground_truth, test(modified_graph))\n",
    "print(\"Change in edges: \", (modified_graph.number_of_edges() - init_edges)/2)"
   ]
  },
  {
   "cell_type": "code",
   "execution_count": 47,
   "metadata": {},
   "outputs": [
    {
     "name": "stdout",
     "output_type": "stream",
     "text": [
      "  NumNodes: 2708\n",
      "  NumEdges: 10556\n",
      "  NumFeats: 1433\n",
      "  NumClasses: 7\n",
      "  NumTrainingSamples: 140\n",
      "  NumValidationSamples: 500\n",
      "  NumTestSamples: 1000\n",
      "Done loading data from cached files.\n",
      "\n",
      "----\n",
      "The accuracy has changed by 0.0020\n",
      "Change in edges:  309.0\n"
     ]
    }
   ],
   "source": [
    "from collections import defaultdict\n",
    "\n",
    "reset_dataset()\n",
    "modified_graph = cora_dataset[0]\n",
    "init_edges = modified_graph.number_of_edges()\n",
    "class_and_added = {label: [] for label in set(g.ndata[\"label\"].tolist())}\n",
    "\n",
    "edge_set = defaultdict(list)\n",
    "c = 0.25\n",
    "\n",
    "for i in range(0, num_classes):\n",
    "    for j in range(0, len(homophilic_set[i])):\n",
    "        edge_set[modified_graph.out_degrees(j)].append(j)\n",
    "\n",
    "\n",
    "# note this implementation is likely inefficient\n",
    "for key in edge_set:\n",
    "    if key == 0:\n",
    "        continue\n",
    "    else:\n",
    "        for elem in edge_set[key]:\n",
    "            n = min(int(math.floor(key * c)), len(edge_set[key]))\n",
    "                \n",
    "            for i in range(0, n):\n",
    "                b_node = elem\n",
    "                c_node = random.choice(edge_set[key])\n",
    "\n",
    "                if b_node == c_node or modified_graph.has_edges_between(b_node, c_node):\n",
    "                    continue\n",
    "\n",
    "                modified_graph.add_edges(b_node, c_node)\n",
    "                modified_graph.add_edges(c_node, b_node)\n",
    "            \n",
    "\n",
    "changed_acc(ground_truth, test(modified_graph))\n",
    "print(\"Change in edges: \", (modified_graph.number_of_edges() - init_edges)/2)"
   ]
  },
  {
   "cell_type": "code",
   "execution_count": 48,
   "metadata": {},
   "outputs": [
    {
     "name": "stdout",
     "output_type": "stream",
     "text": [
      "  NumNodes: 2708\n",
      "  NumEdges: 10556\n",
      "  NumFeats: 1433\n",
      "  NumClasses: 7\n",
      "  NumTrainingSamples: 140\n",
      "  NumValidationSamples: 500\n",
      "  NumTestSamples: 1000\n",
      "Done loading data from cached files.\n",
      "\n",
      "----\n",
      "The accuracy has changed by 0.0020\n",
      "Change in edges:  315.0\n"
     ]
    }
   ],
   "source": [
    "from collections import defaultdict\n",
    "\n",
    "reset_dataset()\n",
    "modified_graph = cora_dataset[0]\n",
    "init_edges = modified_graph.number_of_edges()\n",
    "class_and_added = {label: [] for label in set(g.ndata[\"label\"].tolist())}\n",
    "\n",
    "edge_set = defaultdict(list)\n",
    "c = 0.3\n",
    "\n",
    "for i in range(0, num_classes):\n",
    "    for j in range(0, len(homophilic_set[i])):\n",
    "        edge_set[modified_graph.out_degrees(j)].append(j)\n",
    "\n",
    "\n",
    "# note this implementation is likely inefficient\n",
    "for key in edge_set:\n",
    "    if key == 0:\n",
    "        continue\n",
    "    else:\n",
    "        for elem in edge_set[key]:\n",
    "            n = min(int(math.floor(key * c)), len(edge_set[key]))\n",
    "                \n",
    "            for i in range(0, n):\n",
    "                b_node = elem\n",
    "                c_node = random.choice(edge_set[key])\n",
    "\n",
    "                if b_node == c_node or modified_graph.has_edges_between(b_node, c_node):\n",
    "                    continue\n",
    "\n",
    "                modified_graph.add_edges(b_node, c_node)\n",
    "                modified_graph.add_edges(c_node, b_node)\n",
    "            \n",
    "\n",
    "changed_acc(ground_truth, test(modified_graph))\n",
    "print(\"Change in edges: \", (modified_graph.number_of_edges() - init_edges)/2)"
   ]
  },
  {
   "cell_type": "code",
   "execution_count": 49,
   "metadata": {},
   "outputs": [
    {
     "name": "stdout",
     "output_type": "stream",
     "text": [
      "  NumNodes: 2708\n",
      "  NumEdges: 10556\n",
      "  NumFeats: 1433\n",
      "  NumClasses: 7\n",
      "  NumTrainingSamples: 140\n",
      "  NumValidationSamples: 500\n",
      "  NumTestSamples: 1000\n",
      "Done loading data from cached files.\n",
      "\n",
      "----\n",
      "The accuracy has changed by 0.0050\n",
      "Change in edges:  1605.0\n"
     ]
    }
   ],
   "source": [
    "from collections import defaultdict\n",
    "\n",
    "reset_dataset()\n",
    "modified_graph = cora_dataset[0]\n",
    "init_edges = modified_graph.number_of_edges()\n",
    "class_and_added = {label: [] for label in set(g.ndata[\"label\"].tolist())}\n",
    "\n",
    "edge_set = defaultdict(list)\n",
    "c = 1\n",
    "\n",
    "for i in range(0, num_classes):\n",
    "    for j in range(0, len(homophilic_set[i])):\n",
    "        edge_set[modified_graph.out_degrees(j)].append(j)\n",
    "\n",
    "\n",
    "# note this implementation is likely inefficient\n",
    "for key in edge_set:\n",
    "    if key == 0:\n",
    "        continue\n",
    "    else:\n",
    "        for elem in edge_set[key]:\n",
    "            n = min(int(math.floor(key * c)), len(edge_set[key]))\n",
    "                \n",
    "            for i in range(0, n):\n",
    "                b_node = elem\n",
    "                c_node = random.choice(edge_set[key])\n",
    "\n",
    "                if b_node == c_node or modified_graph.has_edges_between(b_node, c_node):\n",
    "                    continue\n",
    "\n",
    "                modified_graph.add_edges(b_node, c_node)\n",
    "                modified_graph.add_edges(c_node, b_node)\n",
    "            \n",
    "\n",
    "changed_acc(ground_truth, test(modified_graph))\n",
    "print(\"Change in edges: \", (modified_graph.number_of_edges() - init_edges)/2)"
   ]
  }
 ],
 "metadata": {
  "kernelspec": {
   "display_name": "mesp",
   "language": "python",
   "name": "python3"
  },
  "language_info": {
   "codemirror_mode": {
    "name": "ipython",
    "version": 3
   },
   "file_extension": ".py",
   "mimetype": "text/x-python",
   "name": "python",
   "nbconvert_exporter": "python",
   "pygments_lexer": "ipython3",
   "version": "3.11.7"
  }
 },
 "nbformat": 4,
 "nbformat_minor": 2
}
