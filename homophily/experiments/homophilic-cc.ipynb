{
 "cells": [
  {
   "cell_type": "code",
   "execution_count": 2,
   "metadata": {},
   "outputs": [
    {
     "name": "stderr",
     "output_type": "stream",
     "text": [
      "/home/wcorcoran/anaconda3/envs/mesp/lib/python3.8/site-packages/torch_geometric/typing.py:47: UserWarning: An issue occurred while importing 'pyg-lib'. Disabling its usage. Stacktrace: /lib64/libm.so.6: version `GLIBC_2.27' not found (required by /home/wcorcoran/anaconda3/envs/mesp/lib/python3.8/site-packages/libpyg.so)\n",
      "  warnings.warn(f\"An issue occurred while importing 'pyg-lib'. \"\n",
      "/home/wcorcoran/anaconda3/envs/mesp/lib/python3.8/site-packages/torch_geometric/typing.py:101: UserWarning: An issue occurred while importing 'torch-sparse'. Disabling its usage. Stacktrace: /lib64/libm.so.6: version `GLIBC_2.27' not found (required by /home/wcorcoran/anaconda3/envs/mesp/lib/python3.8/site-packages/libpyg.so)\n",
      "  warnings.warn(f\"An issue occurred while importing 'torch-sparse'. \"\n"
     ]
    },
    {
     "name": "stdout",
     "output_type": "stream",
     "text": [
      "Imports finished.\n"
     ]
    }
   ],
   "source": [
    "# these warnings are fine. you can ignore them.\n",
    "from util import *\n",
    "import random, math\n",
    "\n",
    "device = torch.device('cuda' if torch.cuda.is_available() else 'cpu')\n",
    "print(\"Imports finished.\")"
   ]
  },
  {
   "cell_type": "markdown",
   "metadata": {},
   "source": [
    "# Setting Up Dataset/Model/Ground Truth"
   ]
  },
  {
   "cell_type": "code",
   "execution_count": 3,
   "metadata": {},
   "outputs": [
    {
     "name": "stdout",
     "output_type": "stream",
     "text": [
      "0.749\n"
     ]
    }
   ],
   "source": [
    "dataset = Dataset(root='/tmp/Cora', name='Cora', device=device)\n",
    "data, in_feats, h_feats, num_classes = dataset.get_data()\n",
    "\n",
    "model = get_model(in_feats, h_feats, num_classes)\n",
    "\n",
    "ground_truth = get_ground_truth(model, data)\n",
    "print(ground_truth)"
   ]
  },
  {
   "cell_type": "markdown",
   "metadata": {},
   "source": [
    "# Experiments\n",
    "**Note:** The ground truth here is $0.749$\n",
    "\n",
    "Experiment ideas:\n",
    "- What happens if we turn a connected component (all in a certain class) into a clique?\n",
    "- What happens if we turn a connected component (all in a certain class) with a certain density into a clique? \n",
    "- What happens if we increase the density of a connected component (all in a certain class) by a certain threshold?\n",
    "- What happens if we turn a connected component (across classes) into a clique?"
   ]
  },
  {
   "cell_type": "code",
   "execution_count": 4,
   "metadata": {},
   "outputs": [],
   "source": [
    "homophilic_set = {label: [] for label in set(data.y.tolist())}\n",
    "\n",
    "test_indices = torch.nonzero(data.test_mask, as_tuple=False).squeeze()\n",
    "for i in test_indices:\n",
    "    homophilic_set[data.y[i].item()].append(i.item())\n",
    "\n",
    "# print(\"This is the dictionary containing each class and its respective vertices:\\n\\t\", homophilic_set)"
   ]
  },
  {
   "cell_type": "markdown",
   "metadata": {},
   "source": [
    "### Connected component -> Clique\n",
    "What happens if we turn a connected component (all in a certain class) into a clique?"
   ]
  },
  {
   "cell_type": "code",
   "execution_count": 5,
   "metadata": {},
   "outputs": [
    {
     "name": "stdout",
     "output_type": "stream",
     "text": [
      "\n",
      "----\n",
      "The accuracy has not changed.\n",
      "Change in edges:  3.0  | Percentage change: 0.06%\n"
     ]
    }
   ],
   "source": [
    "data = dataset.get_data()[0]\n",
    "modified_graph = data\n",
    "\n",
    "init_edges = len(modified_graph.edge_index[1])\n",
    "\n",
    "G, x, y, train_mask, test_mask = convert_to_networkx(modified_graph)\n",
    "\n",
    "cc = sorted(nx.strongly_connected_components(G), key=len, reverse=True)\n",
    "\n",
    "for i in cc:\n",
    "    s = set(i)\n",
    "    for j in range(0, num_classes):\n",
    "        if s == s.intersection(homophilic_set[j]):\n",
    "            make_clique(G, s)\n",
    "\n",
    "modified_graph = convert_to_pyg(G, x, y, train_mask, test_mask)\n",
    "final_edges = len(modified_graph.edge_index[1])\n",
    "\n",
    "output_accuracy_change(ground_truth, test_model(model, modified_graph)) \n",
    "number_added_edges(init_edges, final_edges, is_undirected=True)"
   ]
  },
  {
   "cell_type": "markdown",
   "metadata": {},
   "source": [
    "### Connected component -> Clique\n",
    "What happens if we turn a connected component with a certain density (all in a certain class) into a clique?"
   ]
  },
  {
   "cell_type": "code",
   "execution_count": 6,
   "metadata": {},
   "outputs": [
    {
     "name": "stdout",
     "output_type": "stream",
     "text": [
      "\n",
      "----\n",
      "The accuracy has not changed.\n",
      "Change in edges:  3.0  | Percentage change: 0.06%\n"
     ]
    }
   ],
   "source": [
    "data = dataset.get_data()[0]\n",
    "modified_graph = data\n",
    "\n",
    "init_edges = len(modified_graph.edge_index[1])\n",
    "\n",
    "G, x, y, train_mask, test_mask = convert_to_networkx(modified_graph)\n",
    "\n",
    "cc = sorted(nx.strongly_connected_components(G), key=len, reverse=True)\n",
    "\n",
    "for i in cc:\n",
    "    s = set(i)\n",
    "    for j in range(0, num_classes):\n",
    "        if (s == s.intersection(homophilic_set[j])) and (nx.density(G.subgraph(list(s))) > 0.2):\n",
    "            make_clique(G, s)\n",
    "\n",
    "modified_graph = convert_to_pyg(G, x, y, train_mask, test_mask)\n",
    "final_edges = len(modified_graph.edge_index[1])\n",
    "\n",
    "output_accuracy_change(ground_truth, test_model(model, modified_graph)) \n",
    "number_added_edges(init_edges, final_edges, is_undirected=True)"
   ]
  },
  {
   "cell_type": "markdown",
   "metadata": {},
   "source": [
    "### Connected component -> Clique\n",
    "What happens if we turn a connected component (all in a certain class) into a clique?\n",
    "\n",
    "**For this experiment, I will IGNORE other classes (meaning, I will make a subgraph of the specific class first).**"
   ]
  },
  {
   "cell_type": "code",
   "execution_count": 7,
   "metadata": {},
   "outputs": [
    {
     "name": "stdout",
     "output_type": "stream",
     "text": [
      "\n",
      "----\n",
      "The accuracy has changed by 0.0230\n",
      "Change in edges:  4211.0  | Percentage change: 79.78%\n"
     ]
    }
   ],
   "source": [
    "data = dataset.get_data()[0]\n",
    "modified_graph = data\n",
    "\n",
    "init_edges = len(modified_graph.edge_index[1])\n",
    "\n",
    "G, x, y, train_mask, test_mask = convert_to_networkx(modified_graph)\n",
    "\n",
    "for j in range(0, len(homophilic_set)):\n",
    "    new_G = G.subgraph(homophilic_set[j])\n",
    "    cc = sorted(nx.strongly_connected_components(new_G), key=len, reverse=True)\n",
    "    for i in cc:\n",
    "        s = set(i)\n",
    "        if len(s) > 1:\n",
    "            make_clique(G, s)\n",
    "\n",
    "modified_graph = convert_to_pyg(G, x, y, train_mask, test_mask)\n",
    "final_edges = len(modified_graph.edge_index[1])\n",
    "\n",
    "output_accuracy_change(ground_truth, test_model(model, modified_graph)) \n",
    "number_added_edges(init_edges, final_edges, is_undirected=True)"
   ]
  },
  {
   "cell_type": "markdown",
   "metadata": {},
   "source": [
    "### Connected component -> Clique\n",
    "\n",
    " \n",
    "\n",
    "**For this experiment, I will IGNORE other classes (meaning, I will make a subgraph of the specific class first).**\n",
    "The following values for *c* were tested:\n",
    "- 0.05\n",
    "- 0.1\n",
    "- 0.15\n",
    "- 0.2\n",
    "- 0.25\n",
    "- 0.3\n",
    "- 0.35\n",
    "- 0.4\n",
    "- 0.45\n",
    "- 0.50\n",
    "- 0.55\n",
    "- 0.60\n",
    "- 0.65\n",
    "- 0.7\n",
    "- 0.75"
   ]
  },
  {
   "cell_type": "code",
   "execution_count": 8,
   "metadata": {},
   "outputs": [
    {
     "name": "stdout",
     "output_type": "stream",
     "text": [
      "\n",
      "----\n",
      "The accuracy has changed by 0.0090\n",
      "Change in edges:  2076.0  | Percentage change: 39.33%\n",
      "For c value: 0.05\n",
      "\n",
      "----\n",
      "The accuracy has changed by 0.0080\n",
      "Change in edges:  816.0  | Percentage change: 15.46%\n",
      "For c value: 0.1\n",
      "\n",
      "----\n",
      "The accuracy has changed by 0.0050\n",
      "Change in edges:  414.0  | Percentage change: 7.84%\n",
      "For c value: 0.15\n",
      "\n",
      "----\n",
      "The accuracy has changed by 0.0040\n",
      "Change in edges:  338.0  | Percentage change: 6.40%\n",
      "For c value: 0.2\n",
      "\n",
      "----\n",
      "The accuracy has changed by 0.0020\n",
      "Change in edges:  161.0  | Percentage change: 3.05%\n",
      "For c value: 0.25\n",
      "\n",
      "----\n",
      "The accuracy has changed by 0.0020\n",
      "Change in edges:  140.0  | Percentage change: 2.65%\n",
      "For c value: 0.3\n",
      "\n",
      "----\n",
      "The accuracy has changed by 0.0020\n",
      "Change in edges:  120.0  | Percentage change: 2.27%\n",
      "For c value: 0.35\n",
      "\n",
      "----\n",
      "The accuracy has changed by 0.0020\n",
      "Change in edges:  120.0  | Percentage change: 2.27%\n",
      "For c value: 0.4\n",
      "\n",
      "----\n",
      "The accuracy has changed by 0.0010\n",
      "Change in edges:  99.0  | Percentage change: 1.88%\n",
      "For c value: 0.45\n",
      "\n",
      "----\n",
      "The accuracy has changed by 0.0010\n",
      "Change in edges:  83.0  | Percentage change: 1.57%\n",
      "For c value: 0.5\n",
      "\n",
      "----\n",
      "The accuracy has changed by 0.0010\n",
      "Change in edges:  20.0  | Percentage change: 0.38%\n",
      "For c value: 0.55\n",
      "\n",
      "----\n",
      "The accuracy has changed by 0.0010\n",
      "Change in edges:  20.0  | Percentage change: 0.38%\n",
      "For c value: 0.6\n",
      "\n",
      "----\n",
      "The accuracy has changed by 0.0010\n",
      "Change in edges:  20.0  | Percentage change: 0.38%\n",
      "For c value: 0.65\n",
      "\n",
      "----\n",
      "The accuracy has not changed.\n",
      "Change in edges:  0.0  | Percentage change: 0.00%\n",
      "For c value: 0.7\n",
      "\n",
      "----\n",
      "The accuracy has not changed.\n",
      "Change in edges:  0.0  | Percentage change: 0.00%\n",
      "For c value: 0.75\n",
      "\n",
      "----\n",
      "The accuracy has not changed.\n",
      "Change in edges:  0.0  | Percentage change: 0.00%\n",
      "For c value: 0.8\n",
      "\n",
      "----\n",
      "The accuracy has not changed.\n",
      "Change in edges:  0.0  | Percentage change: 0.00%\n",
      "For c value: 0.85\n"
     ]
    }
   ],
   "source": [
    "c_values = [0.05, 0.1, 0.15, 0.2, 0.25, 0.3, 0.35, 0.4, 0.45, 0.5, 0.55, 0.6, 0.65, 0.70, 0.75, 0.80, 0.85]\n",
    "\n",
    "for c in c_values:\n",
    "    data = dataset.get_data()[0]\n",
    "    modified_graph = data\n",
    "    \n",
    "    init_edges = len(modified_graph.edge_index[1])\n",
    "    \n",
    "    G, x, y, train_mask, test_mask = convert_to_networkx(modified_graph)\n",
    "\n",
    "    for j in range(0, len(homophilic_set)):\n",
    "        new_G = G.subgraph(homophilic_set[j])\n",
    "        cc = sorted(nx.strongly_connected_components(new_G), key=len, reverse=True)\n",
    "        for i in cc:\n",
    "            s = set(i)\n",
    "            if len(s) > 1 and nx.density(G.subgraph(i)) >= c:\n",
    "                make_clique(G, s)\n",
    "    \n",
    "    modified_graph = convert_to_pyg(G, x, y, train_mask, test_mask)\n",
    "    final_edges = len(modified_graph.edge_index[1])\n",
    "    \n",
    "    output_accuracy_change(ground_truth, test_model(model, modified_graph)) \n",
    "    number_added_edges(init_edges, final_edges, is_undirected=True)\n",
    "    print(\"For c value:\", c)"
   ]
  },
  {
   "cell_type": "markdown",
   "metadata": {},
   "source": [
    "### Connected component -> Clique\n",
    "What happens if we increase the density of a connected component (all in a certain class) by a certain threshold?"
   ]
  },
  {
   "cell_type": "code",
   "execution_count": 9,
   "metadata": {},
   "outputs": [
    {
     "name": "stdout",
     "output_type": "stream",
     "text": [
      "\n",
      "----\n",
      "The accuracy has changed by 0.0010\n",
      "Change in edges:  62.0  | Percentage change: 1.17%\n",
      "For c value: 1.05\n",
      "\n",
      "----\n",
      "The accuracy has changed by 0.0020\n",
      "Change in edges:  78.0  | Percentage change: 1.48%\n",
      "For c value: 1.1\n",
      "\n",
      "----\n",
      "The accuracy has changed by 0.0050\n",
      "Change in edges:  99.0  | Percentage change: 1.88%\n",
      "For c value: 1.15\n",
      "\n",
      "----\n",
      "The accuracy has changed by 0.0040\n",
      "Change in edges:  114.0  | Percentage change: 2.16%\n",
      "For c value: 1.2\n",
      "\n",
      "----\n",
      "The accuracy has changed by 0.0030\n",
      "Change in edges:  135.0  | Percentage change: 2.56%\n",
      "For c value: 1.25\n",
      "\n",
      "----\n",
      "The accuracy has changed by 0.0040\n",
      "Change in edges:  159.0  | Percentage change: 3.01%\n",
      "For c value: 1.3\n",
      "\n",
      "----\n",
      "The accuracy has changed by 0.0100\n",
      "Change in edges:  186.0  | Percentage change: 3.52%\n",
      "For c value: 1.35\n",
      "\n",
      "----\n",
      "The accuracy has changed by 0.0080\n",
      "Change in edges:  202.0  | Percentage change: 3.83%\n",
      "For c value: 1.4\n",
      "\n",
      "----\n",
      "The accuracy has changed by 0.0110\n",
      "Change in edges:  227.0  | Percentage change: 4.30%\n",
      "For c value: 1.45\n",
      "\n",
      "----\n",
      "The accuracy has changed by 0.0100\n",
      "Change in edges:  243.0  | Percentage change: 4.60%\n",
      "For c value: 1.5\n",
      "\n",
      "----\n",
      "The accuracy has changed by 0.0100\n",
      "Change in edges:  264.0  | Percentage change: 5.00%\n",
      "For c value: 1.55\n",
      "\n",
      "----\n",
      "The accuracy has changed by 0.0070\n",
      "Change in edges:  281.0  | Percentage change: 5.32%\n",
      "For c value: 1.6\n",
      "\n",
      "----\n",
      "The accuracy has changed by 0.0140\n",
      "Change in edges:  305.0  | Percentage change: 5.78%\n",
      "For c value: 1.65\n",
      "\n",
      "----\n",
      "The accuracy has changed by 0.0110\n",
      "Change in edges:  330.0  | Percentage change: 6.25%\n",
      "For c value: 1.7\n",
      "\n",
      "----\n",
      "The accuracy has changed by 0.0120\n",
      "Change in edges:  350.0  | Percentage change: 6.63%\n",
      "For c value: 1.75\n",
      "\n",
      "----\n",
      "The accuracy has changed by 0.0160\n",
      "Change in edges:  367.0  | Percentage change: 6.95%\n",
      "For c value: 1.8\n",
      "\n",
      "----\n",
      "The accuracy has changed by 0.0130\n",
      "Change in edges:  390.0  | Percentage change: 7.39%\n",
      "For c value: 1.85\n",
      "\n",
      "----\n",
      "The accuracy has changed by 0.0160\n",
      "Change in edges:  408.0  | Percentage change: 7.73%\n",
      "For c value: 1.9\n",
      "\n",
      "----\n",
      "The accuracy has changed by 0.0150\n",
      "Change in edges:  424.0  | Percentage change: 8.03%\n",
      "For c value: 1.95\n",
      "\n",
      "----\n",
      "The accuracy has changed by 0.0140\n",
      "Change in edges:  433.0  | Percentage change: 8.20%\n",
      "For c value: 2\n",
      "\n",
      "----\n",
      "The accuracy has changed by 0.0200\n",
      "Change in edges:  767.0  | Percentage change: 14.53%\n",
      "For c value: 3\n",
      "\n",
      "----\n",
      "The accuracy has changed by 0.0200\n",
      "Change in edges:  1076.0  | Percentage change: 20.39%\n",
      "For c value: 4\n",
      "\n",
      "----\n",
      "The accuracy has changed by 0.0220\n",
      "Change in edges:  1363.0  | Percentage change: 25.82%\n",
      "For c value: 5\n",
      "\n",
      "----\n",
      "The accuracy has changed by 0.0240\n",
      "Change in edges:  1620.0  | Percentage change: 30.69%\n",
      "For c value: 6\n",
      "\n",
      "----\n",
      "The accuracy has changed by 0.0240\n",
      "Change in edges:  1862.0  | Percentage change: 35.28%\n",
      "For c value: 7\n",
      "\n",
      "----\n",
      "The accuracy has changed by 0.0230\n",
      "Change in edges:  2086.0  | Percentage change: 39.52%\n",
      "For c value: 8\n",
      "\n",
      "----\n",
      "The accuracy has changed by 0.0230\n",
      "Change in edges:  2281.0  | Percentage change: 43.22%\n",
      "For c value: 9\n",
      "\n",
      "----\n",
      "The accuracy has changed by 0.0230\n",
      "Change in edges:  2464.0  | Percentage change: 46.68%\n",
      "For c value: 10\n",
      "\n",
      "----\n",
      "The accuracy has changed by 0.0230\n",
      "Change in edges:  4211.0  | Percentage change: 79.78%\n",
      "For c value: 100\n"
     ]
    }
   ],
   "source": [
    "c_values = [1.05, 1.1, 1.15, 1.2, 1.25, 1.3, 1.35, 1.4, 1.45, 1.5, 1.55, 1.6, 1.65, 1.70, 1.75, 1.80, 1.85, 1.9, 1.95, 2, 3, 4, 5, 6, 7, 8, 9, 10, 100]\n",
    "# strange...it starts to plateau after 5-6\n",
    "# definitely something, I'll have to think on what...\n",
    "\n",
    "\n",
    "def increase_density(G, s, threshold):\n",
    "    while nx.density(G.subgraph(s)) < min(threshold, 1):\n",
    "        random_pair = random.sample(s, 2)\n",
    "        add_edge(G, random_pair[0], random_pair[1], undirected=True)\n",
    "\n",
    "for c in c_values:\n",
    "    data = dataset.get_data()[0]\n",
    "    modified_graph = data\n",
    "    \n",
    "    init_edges = len(modified_graph.edge_index[1])\n",
    "    \n",
    "    G, x, y, train_mask, test_mask = convert_to_networkx(modified_graph)\n",
    "\n",
    "    for j in range(0, len(homophilic_set)):\n",
    "        new_G = G.subgraph(homophilic_set[j])\n",
    "        cc = sorted(nx.strongly_connected_components(new_G), key=len, reverse=True)\n",
    "        for i in cc:\n",
    "            s = set(i)\n",
    "            if len(s) > 1:\n",
    "                threshold = nx.density(G.subgraph(s))\n",
    "                increase_density(G, s, c*threshold)\n",
    "    \n",
    "    modified_graph = convert_to_pyg(G, x, y, train_mask, test_mask)\n",
    "    final_edges = len(modified_graph.edge_index[1])\n",
    "    \n",
    "    output_accuracy_change(ground_truth, test_model(model, modified_graph)) \n",
    "    number_added_edges(init_edges, final_edges, is_undirected=True)\n",
    "    print(\"For c value:\", c)"
   ]
  },
  {
   "cell_type": "markdown",
   "metadata": {},
   "source": [
    "## Connected-Component -> Clique\n",
    "Here, I'm cliquing the ENTIRE graph (i.e. all connected components are now becoming cliques).\n",
    "This is across classes (breaking the homophily)."
   ]
  },
  {
   "cell_type": "code",
   "execution_count": 10,
   "metadata": {},
   "outputs": [
    {
     "name": "stdout",
     "output_type": "stream",
     "text": [
      "\n",
      "----\n",
      "The accuracy has changed by -0.5520\n",
      "Change in edges:  3081640.0  | Percentage change: 58386.51%\n"
     ]
    }
   ],
   "source": [
    "data = dataset.get_data()[0]\n",
    "modified_graph = data\n",
    "\n",
    "init_edges = len(modified_graph.edge_index[1])\n",
    "\n",
    "G, x, y, train_mask, test_mask = convert_to_networkx(modified_graph)\n",
    "\n",
    "cc = sorted(nx.strongly_connected_components(G), key=len, reverse=True)\n",
    "\n",
    "for i in cc:\n",
    "    s = set(i)\n",
    "    make_clique(G, s)\n",
    "\n",
    "modified_graph = convert_to_pyg(G, x, y, train_mask, test_mask)\n",
    "final_edges = len(modified_graph.edge_index[1])\n",
    "\n",
    "output_accuracy_change(ground_truth, test_model(model, modified_graph)) \n",
    "number_added_edges(init_edges, final_edges, is_undirected=True)"
   ]
  }
 ],
 "metadata": {
  "kernelspec": {
   "display_name": "Python 3 (ipykernel)",
   "language": "python",
   "name": "python3"
  },
  "language_info": {
   "codemirror_mode": {
    "name": "ipython",
    "version": 3
   },
   "file_extension": ".py",
   "mimetype": "text/x-python",
   "name": "python",
   "nbconvert_exporter": "python",
   "pygments_lexer": "ipython3",
   "version": "3.8.18"
  }
 },
 "nbformat": 4,
 "nbformat_minor": 4
}
